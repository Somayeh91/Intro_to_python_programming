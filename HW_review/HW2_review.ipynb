{
 "cells": [
  {
   "cell_type": "code",
   "execution_count": 4,
   "id": "b1140289-7168-4782-a165-d8140b11a25d",
   "metadata": {},
   "outputs": [],
   "source": [
    "import pandas as pd\n",
    "import numpy as np"
   ]
  },
  {
   "cell_type": "markdown",
   "id": "f17bdd2a-d6af-4053-84fe-21c88b7c0157",
   "metadata": {},
   "source": [
    "# HW2 Review"
   ]
  },
  {
   "cell_type": "markdown",
   "id": "27ab992a-5cf4-40f3-866c-9bb5b8fe4019",
   "metadata": {},
   "source": [
    "## DataFrames, Loops, and Conditionals for Astronomical Data Analysis\n",
    "\n",
    "### Overview\n",
    "This homework will build on the skills learned in Sessions 1 and 2, focusing on using pandas DataFrames and control structures (for loops, if statements, while loops) to analyze astronomical data. You'll work with a dataset of stars and perform various analyses."
   ]
  },
  {
   "cell_type": "markdown",
   "id": "bee3c1e1-22ea-4fac-86f2-2760524c053c",
   "metadata": {},
   "source": [
    "### Part 1: Setting Up Your Data\n",
    "\n",
    "**Task 1.1: Create a Star Catalog DataFrame**\n",
    "\n",
    "Create a pandas DataFrame containing information about at least 8 stars with the following columns:\n",
    "- `name` (string): Star name\n",
    "- `distance_ly` (float): Distance in light-years\n",
    "- `spectral_type` (string): O, B, A, F, G, K, or M\n",
    "- `temperature_K` (integer): Surface temperature in Kelvin\n",
    "- `mass_solar` (float): Mass in solar masses\n",
    "- `luminosity_solar` (float): Luminosity relative to the Sun\n",
    "- `has_planets` (boolean): Whether the star has known planets"
   ]
  },
  {
   "cell_type": "code",
   "execution_count": 32,
   "id": "b1d2ec2c-17ce-4d54-aea2-91f0e58d947c",
   "metadata": {},
   "outputs": [],
   "source": [
    "# This dictionary includes mock data\n",
    "# Defining the dict according to the instruction\n",
    "\n",
    "stars_data = {\n",
    "    'name': ['star1', 'star2', 'star3', 'star4', 'star5'],\n",
    "    'distance_ly': [582, 39, 4.2, 101.5, 21.3],\n",
    "    'spectral_type': [\"A\", \"M\", \"G\", \"K\", \"M\"],\n",
    "    'temperature_K': [9600, 2200, 7550, 5000, 3000],\n",
    "    'mass_solar': [2, 0.3, 1, 0.9, 0.4],\n",
    "    'luminosity_solar': [40, 0.5, 1, 1.1, 0.7],\n",
    "    'has_planets': [True, True, True, True, False]\n",
    "}\n"
   ]
  },
  {
   "cell_type": "code",
   "execution_count": 33,
   "id": "8d86d0eb-9149-4e2f-9683-6a2dcc3dc969",
   "metadata": {},
   "outputs": [],
   "source": [
    "# Defining the Pandas DataFrame\n",
    "\n",
    "stars_df = pd.DataFrame(stars_data)"
   ]
  },
  {
   "cell_type": "code",
   "execution_count": 34,
   "id": "9786d1a6-67be-456e-ad2a-14f5c7dff042",
   "metadata": {},
   "outputs": [
    {
     "data": {
      "text/html": [
       "<div>\n",
       "<style scoped>\n",
       "    .dataframe tbody tr th:only-of-type {\n",
       "        vertical-align: middle;\n",
       "    }\n",
       "\n",
       "    .dataframe tbody tr th {\n",
       "        vertical-align: top;\n",
       "    }\n",
       "\n",
       "    .dataframe thead th {\n",
       "        text-align: right;\n",
       "    }\n",
       "</style>\n",
       "<table border=\"1\" class=\"dataframe\">\n",
       "  <thead>\n",
       "    <tr style=\"text-align: right;\">\n",
       "      <th></th>\n",
       "      <th>name</th>\n",
       "      <th>distance_ly</th>\n",
       "      <th>spectral_type</th>\n",
       "      <th>temperature_K</th>\n",
       "      <th>mass_solar</th>\n",
       "      <th>luminosity_solar</th>\n",
       "      <th>has_planets</th>\n",
       "    </tr>\n",
       "  </thead>\n",
       "  <tbody>\n",
       "    <tr>\n",
       "      <th>0</th>\n",
       "      <td>star1</td>\n",
       "      <td>582.0</td>\n",
       "      <td>A</td>\n",
       "      <td>9600</td>\n",
       "      <td>2.0</td>\n",
       "      <td>40.0</td>\n",
       "      <td>True</td>\n",
       "    </tr>\n",
       "    <tr>\n",
       "      <th>1</th>\n",
       "      <td>star2</td>\n",
       "      <td>39.0</td>\n",
       "      <td>M</td>\n",
       "      <td>2200</td>\n",
       "      <td>0.3</td>\n",
       "      <td>0.5</td>\n",
       "      <td>True</td>\n",
       "    </tr>\n",
       "    <tr>\n",
       "      <th>2</th>\n",
       "      <td>star3</td>\n",
       "      <td>4.2</td>\n",
       "      <td>G</td>\n",
       "      <td>7550</td>\n",
       "      <td>1.0</td>\n",
       "      <td>1.0</td>\n",
       "      <td>True</td>\n",
       "    </tr>\n",
       "    <tr>\n",
       "      <th>3</th>\n",
       "      <td>star4</td>\n",
       "      <td>101.5</td>\n",
       "      <td>K</td>\n",
       "      <td>5000</td>\n",
       "      <td>0.9</td>\n",
       "      <td>1.1</td>\n",
       "      <td>True</td>\n",
       "    </tr>\n",
       "    <tr>\n",
       "      <th>4</th>\n",
       "      <td>star5</td>\n",
       "      <td>21.3</td>\n",
       "      <td>M</td>\n",
       "      <td>3000</td>\n",
       "      <td>0.4</td>\n",
       "      <td>0.7</td>\n",
       "      <td>False</td>\n",
       "    </tr>\n",
       "  </tbody>\n",
       "</table>\n",
       "</div>"
      ],
      "text/plain": [
       "    name  distance_ly spectral_type  temperature_K  mass_solar  \\\n",
       "0  star1        582.0             A           9600         2.0   \n",
       "1  star2         39.0             M           2200         0.3   \n",
       "2  star3          4.2             G           7550         1.0   \n",
       "3  star4        101.5             K           5000         0.9   \n",
       "4  star5         21.3             M           3000         0.4   \n",
       "\n",
       "   luminosity_solar  has_planets  \n",
       "0              40.0         True  \n",
       "1               0.5         True  \n",
       "2               1.0         True  \n",
       "3               1.1         True  \n",
       "4               0.7        False  "
      ]
     },
     "execution_count": 34,
     "metadata": {},
     "output_type": "execute_result"
    }
   ],
   "source": [
    "# Displaying the DataFrame\n",
    "\n",
    "stars_df"
   ]
  },
  {
   "cell_type": "markdown",
   "id": "6a13108f-9791-498e-9b63-26e2192c3a60",
   "metadata": {},
   "source": [
    "**Task 1.2: Add Calculated Columns**\n",
    "\n",
    "Add two new columns to your DataFrame:\n",
    "- `distance_parsecs`: Convert the distance from light-years to parsecs (1 ly ≈ 0.307 parsecs)\n",
    "- `absolute_magnitude`: Calculate using the formula:\n",
    "  M = 4.83 - 2.5 * log10(luminosity_solar)\n",
    "\n",
    "Display the resulting DataFrame."
   ]
  },
  {
   "cell_type": "code",
   "execution_count": 35,
   "id": "e33f63d0-1f12-44f5-b114-bc3d0d384743",
   "metadata": {},
   "outputs": [],
   "source": [
    "# Creating a new column\n",
    "\n",
    "stars_df['distance_parsecs'] = stars_df.distance_ly * 0.307"
   ]
  },
  {
   "cell_type": "code",
   "execution_count": 36,
   "id": "ca4b0e76-1a6e-42dd-90b7-dec15e65b3d4",
   "metadata": {},
   "outputs": [],
   "source": [
    "# Creating a new column\n",
    "\n",
    "stars_df['absolute_magnitude'] = 4.83 - 2.5*(np.log10(stars_df.luminosity_solar))"
   ]
  },
  {
   "cell_type": "code",
   "execution_count": 11,
   "id": "904b58cd-b6e4-4c43-aaaa-9044feb6274d",
   "metadata": {},
   "outputs": [
    {
     "data": {
      "text/html": [
       "<div>\n",
       "<style scoped>\n",
       "    .dataframe tbody tr th:only-of-type {\n",
       "        vertical-align: middle;\n",
       "    }\n",
       "\n",
       "    .dataframe tbody tr th {\n",
       "        vertical-align: top;\n",
       "    }\n",
       "\n",
       "    .dataframe thead th {\n",
       "        text-align: right;\n",
       "    }\n",
       "</style>\n",
       "<table border=\"1\" class=\"dataframe\">\n",
       "  <thead>\n",
       "    <tr style=\"text-align: right;\">\n",
       "      <th></th>\n",
       "      <th>name</th>\n",
       "      <th>distance_ly</th>\n",
       "      <th>spectral_type</th>\n",
       "      <th>temperature_K</th>\n",
       "      <th>mass_solar</th>\n",
       "      <th>luminosity_solar</th>\n",
       "      <th>has_planets</th>\n",
       "      <th>distance_parsecs</th>\n",
       "      <th>absolute_magnitude</th>\n",
       "    </tr>\n",
       "  </thead>\n",
       "  <tbody>\n",
       "    <tr>\n",
       "      <th>0</th>\n",
       "      <td>star1</td>\n",
       "      <td>582.0</td>\n",
       "      <td>A</td>\n",
       "      <td>9600</td>\n",
       "      <td>2.0</td>\n",
       "      <td>40.0</td>\n",
       "      <td>True</td>\n",
       "      <td>178.6740</td>\n",
       "      <td>0.824850</td>\n",
       "    </tr>\n",
       "    <tr>\n",
       "      <th>1</th>\n",
       "      <td>star2</td>\n",
       "      <td>39.0</td>\n",
       "      <td>M</td>\n",
       "      <td>2200</td>\n",
       "      <td>0.3</td>\n",
       "      <td>0.5</td>\n",
       "      <td>True</td>\n",
       "      <td>11.9730</td>\n",
       "      <td>5.582575</td>\n",
       "    </tr>\n",
       "    <tr>\n",
       "      <th>2</th>\n",
       "      <td>star3</td>\n",
       "      <td>4.2</td>\n",
       "      <td>G</td>\n",
       "      <td>7550</td>\n",
       "      <td>1.0</td>\n",
       "      <td>1.0</td>\n",
       "      <td>True</td>\n",
       "      <td>1.2894</td>\n",
       "      <td>4.830000</td>\n",
       "    </tr>\n",
       "    <tr>\n",
       "      <th>3</th>\n",
       "      <td>star4</td>\n",
       "      <td>101.5</td>\n",
       "      <td>K</td>\n",
       "      <td>5000</td>\n",
       "      <td>0.9</td>\n",
       "      <td>1.1</td>\n",
       "      <td>True</td>\n",
       "      <td>31.1605</td>\n",
       "      <td>4.726518</td>\n",
       "    </tr>\n",
       "    <tr>\n",
       "      <th>4</th>\n",
       "      <td>star5</td>\n",
       "      <td>21.3</td>\n",
       "      <td>M</td>\n",
       "      <td>3000</td>\n",
       "      <td>0.4</td>\n",
       "      <td>0.7</td>\n",
       "      <td>False</td>\n",
       "      <td>6.5391</td>\n",
       "      <td>5.217255</td>\n",
       "    </tr>\n",
       "  </tbody>\n",
       "</table>\n",
       "</div>"
      ],
      "text/plain": [
       "    name  distance_ly spectral_type  temperature_K  mass_solar  \\\n",
       "0  star1        582.0             A           9600         2.0   \n",
       "1  star2         39.0             M           2200         0.3   \n",
       "2  star3          4.2             G           7550         1.0   \n",
       "3  star4        101.5             K           5000         0.9   \n",
       "4  star5         21.3             M           3000         0.4   \n",
       "\n",
       "   luminosity_solar  has_planets  distance_parsecs  absolute_magnitude  \n",
       "0              40.0         True          178.6740            0.824850  \n",
       "1               0.5         True           11.9730            5.582575  \n",
       "2               1.0         True            1.2894            4.830000  \n",
       "3               1.1         True           31.1605            4.726518  \n",
       "4               0.7        False            6.5391            5.217255  "
      ]
     },
     "execution_count": 11,
     "metadata": {},
     "output_type": "execute_result"
    }
   ],
   "source": [
    "stars_df"
   ]
  },
  {
   "cell_type": "markdown",
   "id": "b4a5b983-1bdb-4733-8fbc-e0946df7981a",
   "metadata": {},
   "source": [
    "### Part 2: Loop-Based Analysis\n",
    "\n",
    "**Task 2.1: Star Classification Loop**\n",
    "\n",
    "Write a for loop that iterates through each star in your DataFrame and classifies it based on temperature:\n",
    "- O stars: > 30,000 K\n",
    "- B stars: 10,000 - 30,000 K\n",
    "- A stars: 7,500 - 10,000 K\n",
    "- F stars: 6,000 - 7,500 K\n",
    "- G stars: 5,200 - 6,000 K\n",
    "- K stars: 3,700 - 5,200 K\n",
    "- M stars: < 3,700 K\n",
    "\n",
    "Compare your classification with the spectral_type column and print whether they match."
   ]
  },
  {
   "cell_type": "code",
   "execution_count": 37,
   "id": "ccb60b55-c1f4-4506-8b95-698b14b8f167",
   "metadata": {},
   "outputs": [],
   "source": [
    "# I define a new empty list\n",
    "# In the loop, at each iteration, if the temprature meets \n",
    "# a category temperature range, I add the spectral type to \n",
    "# class_new\n",
    "\n",
    "class_new = []\n",
    "\n",
    "for i in range(len(stars_df)):\n",
    "    if stars_df.temperature_K[i]>30000:\n",
    "        class_new.append('O')\n",
    "    elif (stars_df.temperature_K[i]<30000) and (stars_df.temperature_K[i]>10000):\n",
    "        class_new.append('B')\n",
    "    elif (stars_df.temperature_K[i]<10000) and (stars_df.temperature_K[i]>7500):\n",
    "        class_new.append('A')\n",
    "    elif (stars_df.temperature_K[i]<7500) and (stars_df.temperature_K[i]>6000):\n",
    "        class_new.append('F')\n",
    "    elif (stars_df.temperature_K[i]<6000) and (stars_df.temperature_K[i]>5200):\n",
    "        class_new.append('G')\n",
    "    elif (stars_df.temperature_K[i]<5200) and (stars_df.temperature_K[i]>3700):\n",
    "        class_new.append('K')\n",
    "    else:\n",
    "        class_new.append('M')"
   ]
  },
  {
   "cell_type": "code",
   "execution_count": 38,
   "id": "1ed219fc-4048-4d50-b251-e00032b090cc",
   "metadata": {},
   "outputs": [],
   "source": [
    "# class_new is added as a new column to the stars_df DataFrame\n",
    "stars_df['type_new'] = class_new"
   ]
  },
  {
   "cell_type": "code",
   "execution_count": 39,
   "id": "7685e0c3-fc67-4e6e-bf93-bc6f208aeccd",
   "metadata": {},
   "outputs": [
    {
     "data": {
      "text/html": [
       "<div>\n",
       "<style scoped>\n",
       "    .dataframe tbody tr th:only-of-type {\n",
       "        vertical-align: middle;\n",
       "    }\n",
       "\n",
       "    .dataframe tbody tr th {\n",
       "        vertical-align: top;\n",
       "    }\n",
       "\n",
       "    .dataframe thead th {\n",
       "        text-align: right;\n",
       "    }\n",
       "</style>\n",
       "<table border=\"1\" class=\"dataframe\">\n",
       "  <thead>\n",
       "    <tr style=\"text-align: right;\">\n",
       "      <th></th>\n",
       "      <th>spectral_type</th>\n",
       "      <th>type_new</th>\n",
       "    </tr>\n",
       "  </thead>\n",
       "  <tbody>\n",
       "    <tr>\n",
       "      <th>0</th>\n",
       "      <td>A</td>\n",
       "      <td>A</td>\n",
       "    </tr>\n",
       "    <tr>\n",
       "      <th>1</th>\n",
       "      <td>M</td>\n",
       "      <td>M</td>\n",
       "    </tr>\n",
       "    <tr>\n",
       "      <th>2</th>\n",
       "      <td>G</td>\n",
       "      <td>A</td>\n",
       "    </tr>\n",
       "    <tr>\n",
       "      <th>3</th>\n",
       "      <td>K</td>\n",
       "      <td>K</td>\n",
       "    </tr>\n",
       "    <tr>\n",
       "      <th>4</th>\n",
       "      <td>M</td>\n",
       "      <td>M</td>\n",
       "    </tr>\n",
       "  </tbody>\n",
       "</table>\n",
       "</div>"
      ],
      "text/plain": [
       "  spectral_type type_new\n",
       "0             A        A\n",
       "1             M        M\n",
       "2             G        A\n",
       "3             K        K\n",
       "4             M        M"
      ]
     },
     "execution_count": 39,
     "metadata": {},
     "output_type": "execute_result"
    }
   ],
   "source": [
    "# Displaying two columns of the DataFrame to compare\n",
    "stars_df[['spectral_type', 'type_new']]"
   ]
  },
  {
   "cell_type": "markdown",
   "id": "81c7bc16-ed44-456b-9eb4-59127ab159a4",
   "metadata": {},
   "source": [
    "**Task 2.2: Star Statistics**\n",
    "\n",
    "Using loops and conditionals, determine and print:\n",
    "- The number of stars in each spectral class\n",
    "- The average mass for each spectral class\n",
    "- The star(s) with the highest luminosity\n",
    "- All stars within 20 light-years that have planets"
   ]
  },
  {
   "cell_type": "code",
   "execution_count": 40,
   "id": "3e328c49-4e66-4bf2-a877-56e2ed68e20d",
   "metadata": {},
   "outputs": [
    {
     "name": "stdout",
     "output_type": "stream",
     "text": [
      "Number of stars for spectral types O, B, A, F, G, K, and M are: 0, 0, 2, 0, 0, 1, 2\n"
     ]
    }
   ],
   "source": [
    "# I define counter as an array of shape (7, )\n",
    "# each elemnt of counter is a counter for each spectral class\n",
    "# In the loop I check each star's spectral class and \n",
    "# increase its counter by one\n",
    "# The spectral types are:\n",
    "# O, B, A, F, G, K, or M\n",
    "\n",
    "counter = np.zeros((7))\n",
    "\n",
    "for i in range(len(stars_df)):\n",
    "    if stars_df.type_new[i]== 'O':\n",
    "        counter[0] += 1\n",
    "    elif stars_df.type_new[i] == 'B':\n",
    "        counter[1] += 1\n",
    "    elif stars_df.type_new[i] == 'A':\n",
    "        counter[2] += 1\n",
    "    elif stars_df.type_new[i] == 'F':\n",
    "        counter[3] += 1\n",
    "    elif stars_df.type_new[i] == 'G':\n",
    "        counter[4] += 1\n",
    "    elif stars_df.type_new[i] == 'K':\n",
    "        counter[5] += 1\n",
    "    else:\n",
    "        counter[6] += 1\n",
    "        \n",
    "print(\"Number of stars for spectral types O, B, A, F, G, K, and M are: %i, %i, %i, %i, %i, %i, %i\"%(counter[0],\n",
    "                                                                                                    counter[1],\n",
    "                                                                                                    counter[2],\n",
    "                                                                                                   counter[3],\n",
    "                                                                                                   counter[4],\n",
    "                                                                                                   counter[5],\n",
    "                                                                                                   counter[6]))"
   ]
  },
  {
   "cell_type": "code",
   "execution_count": 41,
   "id": "b9f0c19d-5041-4c78-ba00-57b7e813d505",
   "metadata": {},
   "outputs": [
    {
     "data": {
      "text/plain": [
       "spectral_type\n",
       "A    1\n",
       "G    1\n",
       "K    1\n",
       "M    2\n",
       "dtype: int64"
      ]
     },
     "execution_count": 41,
     "metadata": {},
     "output_type": "execute_result"
    }
   ],
   "source": [
    "# Another way to see how many unique elements there are \n",
    "# in a specific column\n",
    "\n",
    "stars_df.groupby('spectral_type').size()"
   ]
  },
  {
   "cell_type": "code",
   "execution_count": 43,
   "id": "ea97206c-4ed9-41d8-9699-40045a9ea5cf",
   "metadata": {},
   "outputs": [
    {
     "name": "stdout",
     "output_type": "stream",
     "text": [
      "Average mass of stars for spectral types O, B, A, F, G, K, and M are: nan, nan, 1.50, nan, nan, 0.90, 0.35 solar mass\n"
     ]
    },
    {
     "name": "stderr",
     "output_type": "stream",
     "text": [
      "/var/folders/6f/k2kn3hn52ws4kc_w0_zqfpy40000gp/T/ipykernel_19554/1361455649.py:36: RuntimeWarning: invalid value encountered in double_scalars\n",
      "  print(\"Average mass of stars for spectral types O, B, A, F, G, K, and M are: %.2f, %.2f, %.2f, %.2f, %.2f, %.2f, %.2f solar mass\"%(sum_mass[0]/counter[0],\n",
      "/var/folders/6f/k2kn3hn52ws4kc_w0_zqfpy40000gp/T/ipykernel_19554/1361455649.py:37: RuntimeWarning: invalid value encountered in double_scalars\n",
      "  sum_mass[1]/counter[1],\n",
      "/var/folders/6f/k2kn3hn52ws4kc_w0_zqfpy40000gp/T/ipykernel_19554/1361455649.py:39: RuntimeWarning: invalid value encountered in double_scalars\n",
      "  sum_mass[3]/counter[3],\n",
      "/var/folders/6f/k2kn3hn52ws4kc_w0_zqfpy40000gp/T/ipykernel_19554/1361455649.py:40: RuntimeWarning: invalid value encountered in double_scalars\n",
      "  sum_mass[4]/counter[4],\n"
     ]
    }
   ],
   "source": [
    "# I define counter and sum_mass as an array of shape (7, )\n",
    "# In the loop, I check each star's spectral class and \n",
    "# increase its counter by one and add its mass to sum_mass\n",
    "# Finally, I divide sum_mass by counter to get \n",
    "# average mass per spectral class\n",
    "\n",
    "# The spectral types are:\n",
    "# O, B, A, F, G, K, or M\n",
    "\n",
    "sum_mass = np.zeros((7))\n",
    "counter = np.zeros((7))\n",
    "\n",
    "for i in range(len(stars_df)):\n",
    "    if stars_df.type_new[i]== 'O':\n",
    "        counter[0] += 1\n",
    "        sum_mass[0] += stars_df.mass_solar[i]\n",
    "    elif stars_df.type_new[i] == 'B':\n",
    "        counter[1] += 1\n",
    "        sum_mass[1] += stars_df.mass_solar[i]\n",
    "    elif stars_df.type_new[i] == 'A':\n",
    "        counter[2] += 1\n",
    "        sum_mass[2] += stars_df.mass_solar[i]\n",
    "    elif stars_df.type_new[i] == 'F':\n",
    "        counter[3] += 1\n",
    "        sum_mass[3] += stars_df.mass_solar[i]\n",
    "    elif stars_df.type_new[i] == 'G':\n",
    "        counter[4] += 1\n",
    "        sum_mass[4] += stars_df.mass_solar[i]\n",
    "    elif stars_df.type_new[i] == 'K':\n",
    "        counter[5] += 1\n",
    "        sum_mass[5] += stars_df.mass_solar[i]\n",
    "    else:\n",
    "        counter[6] += 1\n",
    "        sum_mass[6] += stars_df.mass_solar[i]\n",
    "        \n",
    "print(\"Average mass of stars for spectral types O, B, A, F, G, K, and M are: %.2f, %.2f, %.2f, %.2f, %.2f, %.2f, %.2f solar mass\"%(sum_mass[0]/counter[0],\n",
    "                                                                                                    sum_mass[1]/counter[1],\n",
    "                                                                                                    sum_mass[2]/counter[2],\n",
    "                                                                                                   sum_mass[3]/counter[3],\n",
    "                                                                                                   sum_mass[4]/counter[4],\n",
    "                                                                                                   sum_mass[5]/counter[5],\n",
    "                                                                                                   sum_mass[6]/counter[6]))"
   ]
  },
  {
   "cell_type": "code",
   "execution_count": 44,
   "id": "61c7db11-4b13-4174-8f0f-e34aed4d1b18",
   "metadata": {},
   "outputs": [
    {
     "name": "stderr",
     "output_type": "stream",
     "text": [
      "/var/folders/6f/k2kn3hn52ws4kc_w0_zqfpy40000gp/T/ipykernel_19554/4058758291.py:3: FutureWarning: The default value of numeric_only in DataFrameGroupBy.mean is deprecated. In a future version, numeric_only will default to False. Either specify numeric_only or select only columns which should be valid for the function.\n",
      "  stars_df.groupby('spectral_type').mean()\n"
     ]
    },
    {
     "data": {
      "text/html": [
       "<div>\n",
       "<style scoped>\n",
       "    .dataframe tbody tr th:only-of-type {\n",
       "        vertical-align: middle;\n",
       "    }\n",
       "\n",
       "    .dataframe tbody tr th {\n",
       "        vertical-align: top;\n",
       "    }\n",
       "\n",
       "    .dataframe thead th {\n",
       "        text-align: right;\n",
       "    }\n",
       "</style>\n",
       "<table border=\"1\" class=\"dataframe\">\n",
       "  <thead>\n",
       "    <tr style=\"text-align: right;\">\n",
       "      <th></th>\n",
       "      <th>distance_ly</th>\n",
       "      <th>temperature_K</th>\n",
       "      <th>mass_solar</th>\n",
       "      <th>luminosity_solar</th>\n",
       "      <th>has_planets</th>\n",
       "      <th>distance_parsecs</th>\n",
       "      <th>absolute_magnitude</th>\n",
       "    </tr>\n",
       "    <tr>\n",
       "      <th>spectral_type</th>\n",
       "      <th></th>\n",
       "      <th></th>\n",
       "      <th></th>\n",
       "      <th></th>\n",
       "      <th></th>\n",
       "      <th></th>\n",
       "      <th></th>\n",
       "    </tr>\n",
       "  </thead>\n",
       "  <tbody>\n",
       "    <tr>\n",
       "      <th>A</th>\n",
       "      <td>582.00</td>\n",
       "      <td>9600.0</td>\n",
       "      <td>2.00</td>\n",
       "      <td>40.0</td>\n",
       "      <td>1.0</td>\n",
       "      <td>178.67400</td>\n",
       "      <td>0.824850</td>\n",
       "    </tr>\n",
       "    <tr>\n",
       "      <th>G</th>\n",
       "      <td>4.20</td>\n",
       "      <td>7550.0</td>\n",
       "      <td>1.00</td>\n",
       "      <td>1.0</td>\n",
       "      <td>1.0</td>\n",
       "      <td>1.28940</td>\n",
       "      <td>4.830000</td>\n",
       "    </tr>\n",
       "    <tr>\n",
       "      <th>K</th>\n",
       "      <td>101.50</td>\n",
       "      <td>5000.0</td>\n",
       "      <td>0.90</td>\n",
       "      <td>1.1</td>\n",
       "      <td>1.0</td>\n",
       "      <td>31.16050</td>\n",
       "      <td>4.726518</td>\n",
       "    </tr>\n",
       "    <tr>\n",
       "      <th>M</th>\n",
       "      <td>30.15</td>\n",
       "      <td>2600.0</td>\n",
       "      <td>0.35</td>\n",
       "      <td>0.6</td>\n",
       "      <td>0.5</td>\n",
       "      <td>9.25605</td>\n",
       "      <td>5.399915</td>\n",
       "    </tr>\n",
       "  </tbody>\n",
       "</table>\n",
       "</div>"
      ],
      "text/plain": [
       "               distance_ly  temperature_K  mass_solar  luminosity_solar  \\\n",
       "spectral_type                                                             \n",
       "A                   582.00         9600.0        2.00              40.0   \n",
       "G                     4.20         7550.0        1.00               1.0   \n",
       "K                   101.50         5000.0        0.90               1.1   \n",
       "M                    30.15         2600.0        0.35               0.6   \n",
       "\n",
       "               has_planets  distance_parsecs  absolute_magnitude  \n",
       "spectral_type                                                     \n",
       "A                      1.0         178.67400            0.824850  \n",
       "G                      1.0           1.28940            4.830000  \n",
       "K                      1.0          31.16050            4.726518  \n",
       "M                      0.5           9.25605            5.399915  "
      ]
     },
     "execution_count": 44,
     "metadata": {},
     "output_type": "execute_result"
    }
   ],
   "source": [
    "# Another way of getting the mean of all columns of the stars_df\n",
    "# per unique element in one column\n",
    "stars_df.groupby('spectral_type').mean()"
   ]
  },
  {
   "cell_type": "code",
   "execution_count": 45,
   "id": "3e714575-2481-4806-b505-36dc606f7958",
   "metadata": {},
   "outputs": [
    {
     "data": {
      "text/plain": [
       "'star1'"
      ]
     },
     "execution_count": 45,
     "metadata": {},
     "output_type": "execute_result"
    }
   ],
   "source": [
    "# Find the star(s) with the highest luminosity\n",
    "\n",
    "#np.argmax or np.argmin gives us the index of the maximum or minimum value \n",
    "# in an array\n",
    "# We then use that index to find the values of the row in which the maximum of \n",
    "# one column exists in\n",
    "\n",
    "stars_df.name[np.argmax(stars_df.luminosity_solar)]"
   ]
  },
  {
   "cell_type": "code",
   "execution_count": 46,
   "id": "d25c88e7-5969-4e77-9a9d-ae48c7ac2caf",
   "metadata": {},
   "outputs": [
    {
     "data": {
      "text/plain": [
       "name                    star1\n",
       "distance_ly             582.0\n",
       "spectral_type               A\n",
       "temperature_K            9600\n",
       "mass_solar                2.0\n",
       "luminosity_solar         40.0\n",
       "has_planets              True\n",
       "distance_parsecs      178.674\n",
       "absolute_magnitude    0.82485\n",
       "type_new                    A\n",
       "Name: 0, dtype: object"
      ]
     },
     "execution_count": 46,
     "metadata": {},
     "output_type": "execute_result"
    }
   ],
   "source": [
    "# The same as above using iloc\n",
    "\n",
    "stars_df.iloc[np.argmax(stars_df.luminosity_solar)]"
   ]
  },
  {
   "cell_type": "code",
   "execution_count": 47,
   "id": "f56543c3-af60-42ba-8af4-08478ab3d16b",
   "metadata": {},
   "outputs": [
    {
     "name": "stdout",
     "output_type": "stream",
     "text": [
      "name                   star3\n",
      "distance_ly              4.2\n",
      "spectral_type              G\n",
      "temperature_K           7550\n",
      "mass_solar               1.0\n",
      "luminosity_solar         1.0\n",
      "has_planets             True\n",
      "distance_parsecs      1.2894\n",
      "absolute_magnitude      4.83\n",
      "type_new                   A\n",
      "Name: 2, dtype: object\n"
     ]
    }
   ],
   "source": [
    "# Find all stars within 20 light-years that have planets\n",
    "\n",
    "for i in range(len(stars_df)):\n",
    "    if (stars_df.distance_ly[i]<20) and (stars_df.has_planets[i]):\n",
    "        print(stars_df.iloc[i])"
   ]
  },
  {
   "cell_type": "code",
   "execution_count": null,
   "id": "390a71c8-d962-4e75-8162-a375bbc1b376",
   "metadata": {},
   "outputs": [],
   "source": []
  }
 ],
 "metadata": {
  "kernelspec": {
   "display_name": "Python 3 (ipykernel)",
   "language": "python",
   "name": "python3"
  },
  "language_info": {
   "codemirror_mode": {
    "name": "ipython",
    "version": 3
   },
   "file_extension": ".py",
   "mimetype": "text/x-python",
   "name": "python",
   "nbconvert_exporter": "python",
   "pygments_lexer": "ipython3",
   "version": "3.8.18"
  }
 },
 "nbformat": 4,
 "nbformat_minor": 5
}
