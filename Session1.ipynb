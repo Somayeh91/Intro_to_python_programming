{
 "cells": [
  {
   "cell_type": "markdown",
   "id": "290c6599-1724-4d36-91ad-1eb0fc05b9ea",
   "metadata": {},
   "source": [
    "# Astronomy Python Basics: Variables and Data Types"
   ]
  },
  {
   "cell_type": "code",
   "execution_count": 13,
   "id": "5e5f00d2-e356-4caf-b8c0-630d28502375",
   "metadata": {},
   "outputs": [],
   "source": [
    "import numpy as np"
   ]
  },
  {
   "cell_type": "markdown",
   "id": "e2d36e32-7de2-436f-aeb3-bd8972dce27c",
   "metadata": {},
   "source": [
    "## Cell 1: Basic Variable Types\n",
    "### Demonstrating different basic variable types used in astronomical data"
   ]
  },
  {
   "cell_type": "code",
   "execution_count": 23,
   "id": "c271277b-d0f1-4f60-960f-a679f639fd8f",
   "metadata": {},
   "outputs": [],
   "source": [
    "# Integer - representing number of stars in a cluster\n",
    "stars_in_cluster = 10000\n",
    "\n",
    "# Float - representing distance to a celestial object in light-years\n",
    "andromeda_distance = 2.537e6  # 2.537 million light-years\n",
    "\n",
    "# String - naming celestial objects\n",
    "galaxy_name = \"Andromeda Galaxy\"\n",
    "\n",
    "# Boolean - used for scientific conditions\n",
    "is_exoplanet_habitable = True"
   ]
  },
  {
   "cell_type": "code",
   "execution_count": 24,
   "id": "0f0fd97b-97c7-4f95-9848-85c723655745",
   "metadata": {},
   "outputs": [
    {
     "name": "stdout",
     "output_type": "stream",
     "text": [
      "Stars in cluster: 10000\n",
      "Andromeda distance: 2537000.0 light-years\n",
      "Galaxy name: Andromeda Galaxy\n",
      "Habitable exoplanet: True\n"
     ]
    }
   ],
   "source": [
    "print(\"Stars in cluster:\", stars_in_cluster)\n",
    "print(\"Andromeda distance:\", andromeda_distance, \"light-years\")\n",
    "print(\"Galaxy name:\", galaxy_name)\n",
    "print(\"Habitable exoplanet:\", is_exoplanet_habitable)"
   ]
  },
  {
   "cell_type": "markdown",
   "id": "9c8e8ff5-07a1-4023-bfaf-d03928883152",
   "metadata": {},
   "source": [
    "## Cell 2: Lists and Arrays\n",
    "### Different ways to store multiple astronomical measurements"
   ]
  },
  {
   "cell_type": "code",
   "execution_count": 27,
   "id": "8e4dd1ff-2543-4b4a-a437-29da5cc90fe4",
   "metadata": {},
   "outputs": [],
   "source": [
    "# List - flexible collection of different types\n",
    "stellar_temperatures = [5778, 3500, 30000, 4000]\n",
    "planet_names = [\"Earth\", \"Mars\", \"Jupiter\", \"Saturn\"]"
   ]
  },
  {
   "cell_type": "code",
   "execution_count": 28,
   "id": "93db45d1-dbb2-439c-882c-070f259da26b",
   "metadata": {},
   "outputs": [
    {
     "name": "stdout",
     "output_type": "stream",
     "text": [
      "The third planet is: Jupiter\n",
      "Updated planets: ['Earth', 'Mars', 'Jupiter', 'Saturn', 'Pluto']\n",
      "Planets after removal: ['Earth', 'Mars', 'Jupiter', 'Saturn']\n"
     ]
    }
   ],
   "source": [
    "# Accessing elements in a list\n",
    "print(\"The third planet is:\", planet_names[2])  # Indexing starts from 0 in Python\n",
    "\n",
    "# Adding a new object to the list (e.g., adding Pluto back)\n",
    "planet_names.append(\"Pluto\")\n",
    "print(\"Updated planets:\", planet_names)\n",
    "\n",
    "# Removing an element from the list (if we remove Pluto again)\n",
    "planet_names.remove(\"Pluto\")\n",
    "print(\"Planets after removal:\", planet_names)"
   ]
  },
  {
   "cell_type": "code",
   "execution_count": 31,
   "id": "44260d90-105a-4251-bdde-aaf706091da7",
   "metadata": {},
   "outputs": [
    {
     "name": "stdout",
     "output_type": "stream",
     "text": [
      "Stellar Temperatures: [5778, 3500, 30000, 4000]\n",
      "First planet: Earth\n",
      "Last planet: Saturn\n"
     ]
    }
   ],
   "source": [
    "# List operations\n",
    "print(\"Stellar Temperatures:\", stellar_temperatures)\n",
    "print(\"First planet:\", planet_names[0])\n",
    "print(\"Last planet:\", planet_names[-1])"
   ]
  },
  {
   "cell_type": "code",
   "execution_count": 35,
   "id": "d3b459c4-f5d1-4dfe-a233-8499940c46af",
   "metadata": {},
   "outputs": [
    {
     "name": "stdout",
     "output_type": "stream",
     "text": [
      "Distances of planets from the Sun (in AU): [ 0.39  0.72  1.    1.52  5.2   9.58 19.22 30.05]\n",
      "Data type of distances array: float32\n"
     ]
    }
   ],
   "source": [
    "# Arrays in Python using NumPy\n",
    "import numpy as np\n",
    "\n",
    "# Arrays are more efficient for numerical operations than lists.\n",
    "# Example: Storing distances of planets from the Sun in AU (Astronomical Units)\n",
    "\n",
    "distances = np.array([0.39, 0.72, 1.0, 1.52, 5.2, 9.58, 19.22, 30.05], \n",
    "                     dtype=np.float32)\n",
    "print(\"Distances of planets from the Sun (in AU):\", distances)\n",
    "print(\"Data type of distances array:\", distances.dtype)  # Checking dtype of array"
   ]
  },
  {
   "cell_type": "code",
   "execution_count": 44,
   "id": "8d692260-3a7f-44dd-8ee2-79b3596834bd",
   "metadata": {},
   "outputs": [
    {
     "name": "stdout",
     "output_type": "stream",
     "text": [
      "Distances in million km: [  58.344     107.712006  149.6       227.39201   777.92     1433.1681\n",
      " 2875.312    4495.48    ]\n",
      "Distances in million km (as integers): [  58  107  149  227  777 1433 2875 4495]\n",
      "New dtype: int32\n",
      "Inner planets distances (in AU): [ 0.39  0.72  1.    1.52  5.2   9.58 19.22]\n"
     ]
    }
   ],
   "source": [
    "# Performing mathematical operations on arrays\n",
    "scaled_distances = distances * 149.6  # Convert AU to millions of km\n",
    "print(\"Distances in million km:\", scaled_distances)\n",
    "\n",
    "# Changing dtype of an array\n",
    "scaled_distances_int = scaled_distances.astype(np.int32)\n",
    "print(\"Distances in million km (as integers):\", scaled_distances_int)\n",
    "print(\"New dtype:\", scaled_distances_int.dtype)\n",
    "\n",
    "# Slicing an array (e.g., inner planets only)\n",
    "inner_planets = distances[:4]  # First four elements\n",
    "print(\"Inner planets distances (in AU):\", inner_planets)"
   ]
  },
  {
   "cell_type": "code",
   "execution_count": 46,
   "id": "f4ad74fe-a650-44dc-a2e7-733c736369c6",
   "metadata": {},
   "outputs": [
    {
     "name": "stdout",
     "output_type": "stream",
     "text": [
      "Mean star magnitude: 8.459999\n",
      "Maximum star magnitude: 30.05\n"
     ]
    }
   ],
   "source": [
    "# Numpy array operations\n",
    "print(\"Mean star magnitude:\", np.mean(distances))\n",
    "print(\"Maximum star magnitude:\", np.max(distances))"
   ]
  },
  {
   "cell_type": "markdown",
   "id": "c59e45c4-aa6c-4b02-892b-abf928a44996",
   "metadata": {},
   "source": [
    "## Cell 3: Data Types and Type Conversion\n",
    "### Understanding and converting between different data types"
   ]
  },
  {
   "cell_type": "code",
   "execution_count": 47,
   "id": "d0666f2d-7698-4b08-830c-b9d76b901aef",
   "metadata": {},
   "outputs": [
    {
     "name": "stdout",
     "output_type": "stream",
     "text": [
      "Type of stars_in_cluster: <class 'int'>\n",
      "Type of andromeda_distance: <class 'float'>\n"
     ]
    }
   ],
   "source": [
    "# Type checking\n",
    "print(\"Type of stars_in_cluster:\", type(stars_in_cluster))\n",
    "print(\"Type of andromeda_distance:\", type(andromeda_distance))"
   ]
  },
  {
   "cell_type": "code",
   "execution_count": 48,
   "id": "4a81c556-24c3-40d9-8b33-117d2c473b1c",
   "metadata": {},
   "outputs": [
    {
     "name": "stdout",
     "output_type": "stream",
     "text": [
      "\n",
      "Converted types:\n",
      "Stars as string: 10000 Type: <class 'str'>\n",
      "Distance as integer: 2537000 Type: <class 'int'>\n"
     ]
    }
   ],
   "source": [
    "# Type conversion\n",
    "stars_as_string = str(stars_in_cluster)\n",
    "distance_as_integer = int(andromeda_distance)\n",
    "\n",
    "print(\"\\nConverted types:\")\n",
    "print(\"Stars as string:\", stars_as_string, \"Type:\", type(stars_as_string))\n",
    "print(\"Distance as integer:\", distance_as_integer, \"Type:\", type(distance_as_integer))"
   ]
  },
  {
   "cell_type": "markdown",
   "id": "3e939b04-5ed8-462a-9257-6482e6afa2bc",
   "metadata": {},
   "source": [
    "## Cell 4: Advanced Printing Techniques\n",
    "### Different ways to format and print information"
   ]
  },
  {
   "cell_type": "code",
   "execution_count": 8,
   "id": "7f6d48b7-0ed1-4a4a-b7f2-876d8de4a889",
   "metadata": {},
   "outputs": [
    {
     "name": "stdout",
     "output_type": "stream",
     "text": [
      "Telescope: Hubble Space Telescope, Launched in: 1990\n"
     ]
    }
   ],
   "source": [
    "# F-strings (formatted string literals)\n",
    "telescope_name = \"Hubble Space Telescope\"\n",
    "observation_year = 1990\n",
    "print(f\"Telescope: {telescope_name}, Launched in: {observation_year}\")"
   ]
  },
  {
   "cell_type": "code",
   "execution_count": 9,
   "id": "f4436ce9-d432-4321-87a1-0c6f512cb3f6",
   "metadata": {},
   "outputs": [
    {
     "name": "stdout",
     "output_type": "stream",
     "text": [
      "\n",
      "Multiple Variables:\n",
      "Galaxy: Andromeda Galaxy | Distance: 2537000.0 light-years\n"
     ]
    }
   ],
   "source": [
    "# Multiple variable printing\n",
    "print(\"\\nMultiple Variables:\")\n",
    "print(\"Galaxy:\", galaxy_name, \"| Distance:\", andromeda_distance, \"light-years\")"
   ]
  },
  {
   "cell_type": "code",
   "execution_count": 10,
   "id": "3d11f559-5393-44fd-9edc-29b622e13027",
   "metadata": {},
   "outputs": [
    {
     "name": "stdout",
     "output_type": "stream",
     "text": [
      "\n",
      "Precision Formatting:\n",
      "Earth's orbital period: 365.26 days\n"
     ]
    }
   ],
   "source": [
    "# Formatted printing with precision\n",
    "orbital_period = 365.256  # Earth's orbital period\n",
    "print(\"\\nPrecision Formatting:\")\n",
    "print(f\"Earth's orbital period: {orbital_period:.2f} days\")"
   ]
  },
  {
   "cell_type": "code",
   "execution_count": 76,
   "id": "f8bf1419-a687-401d-b227-bca31da3fd2f",
   "metadata": {},
   "outputs": [
    {
     "name": "stdout",
     "output_type": "stream",
     "text": [
      "\n",
      "Precision Formatting:\n",
      "Earth's orbital period: 365.26 days\n"
     ]
    }
   ],
   "source": [
    "# Formatted printing with precision\n",
    "orbital_period = 365.256  # Earth's orbital period\n",
    "print(\"\\nPrecision Formatting:\")\n",
    "print(\"Earth's orbital period: %.2f days\"%orbital_period)"
   ]
  },
  {
   "cell_type": "markdown",
   "id": "fe0db829-ad10-4f63-ac71-4bf61429f6f7",
   "metadata": {},
   "source": [
    "## Cell 5: Astronomy Data Handling\n",
    "### Creating a simple dataset of exoplanets"
   ]
  },
  {
   "cell_type": "code",
   "execution_count": 54,
   "id": "250eac4a-25fb-4860-a32a-95958d888b61",
   "metadata": {},
   "outputs": [],
   "source": [
    "# Dictionary to store exoplanet information\n",
    "exoplanets = {\n",
    "    \"Kepler-22b\": {\"distance\": 600, \"radius\": 2.4, \"habitable\": True},\n",
    "    \"TRAPPIST-1e\": {\"distance\": 39, \"radius\": 0.92, \"habitable\": True},\n",
    "    \"HD 209458 b\": {\"distance\": 159, \"radius\": 1.32, \"habitable\": False}\n",
    "}"
   ]
  },
  {
   "cell_type": "code",
   "execution_count": 69,
   "id": "2354b3f1-7b96-4c17-aaed-e6057e05fc93",
   "metadata": {},
   "outputs": [
    {
     "data": {
      "text/plain": [
       "dict_keys(['Kepler-22b', 'TRAPPIST-1e', 'HD 209458 b'])"
      ]
     },
     "execution_count": 69,
     "metadata": {},
     "output_type": "execute_result"
    }
   ],
   "source": [
    "exoplanets.keys()"
   ]
  },
  {
   "cell_type": "code",
   "execution_count": 70,
   "id": "229760ab-3532-4609-a952-ddda3f46ba29",
   "metadata": {},
   "outputs": [
    {
     "data": {
      "text/plain": [
       "dict_keys(['distance', 'radius', 'habitable'])"
      ]
     },
     "execution_count": 70,
     "metadata": {},
     "output_type": "execute_result"
    }
   ],
   "source": [
    "exoplanets['Kepler-22b'].keys()"
   ]
  },
  {
   "cell_type": "code",
   "execution_count": 73,
   "id": "88de4ee5-8c49-476b-9273-320c2a4003bf",
   "metadata": {},
   "outputs": [
    {
     "data": {
      "text/plain": [
       "600"
      ]
     },
     "execution_count": 73,
     "metadata": {},
     "output_type": "execute_result"
    }
   ],
   "source": [
    "exoplanets['Kepler-22b']['distance']"
   ]
  },
  {
   "cell_type": "code",
   "execution_count": 63,
   "id": "36a59b12-00c1-4cca-9ed0-c9f8242efb9a",
   "metadata": {},
   "outputs": [
    {
     "data": {
      "text/plain": [
       "dict_items([('Kepler-22b', {'distance': 600, 'radius': 2.4, 'habitable': True}), ('TRAPPIST-1e', {'distance': 39, 'radius': 0.92, 'habitable': True}), ('HD 209458 b', {'distance': 159, 'radius': 1.32, 'habitable': False})])"
      ]
     },
     "execution_count": 63,
     "metadata": {},
     "output_type": "execute_result"
    }
   ],
   "source": [
    "exoplanets.items()"
   ]
  },
  {
   "cell_type": "code",
   "execution_count": 84,
   "id": "5e5d2cd2-d551-463e-bcfb-4193b768374c",
   "metadata": {},
   "outputs": [
    {
     "name": "stdout",
     "output_type": "stream",
     "text": [
      "\n",
      "Exoplanet Information:\n",
      "Kepler-22b: Distance = 600 light-years, Radius = 2.40 Earth radii, Habitable = True\n",
      "TRAPPIST-1e: Distance = 39 light-years, Radius = 0.92 Earth radii, Habitable = True\n",
      "HD 209458 b: Distance = 159 light-years, Radius = 1.32 Earth radii, Habitable = False\n"
     ]
    }
   ],
   "source": [
    "# Iterating and printing exoplanet data\n",
    "print(\"\\nExoplanet Information:\")\n",
    "\n",
    "\n",
    "\n",
    "for item in exoplanets.items():\n",
    "    \n",
    "    name, details = item[0], item[1]\n",
    "    \n",
    "    # print(f\"{name}: Distance = {details['distance']} light-years, \"\n",
    "    #       f\"Radius = {details['radius']} Earth radii, \"\n",
    "    #       f\"Habitable = {details['habitable']}\")\n",
    "\n",
    "    print(\"%s: Distance = %i light-years, \"\n",
    "          \"Radius = %.2f Earth radii, \"\n",
    "          \"Habitable = %s\" %(name, \n",
    "                             details['distance'], \n",
    "                             details['radius'], \n",
    "                             details['habitable']))"
   ]
  },
  {
   "cell_type": "markdown",
   "id": "7591bbd9-e9fb-4b19-8e4e-03b8b3e1a405",
   "metadata": {},
   "source": [
    "# Homework Assignment: Applying Variables in Astronomy\n",
    "# ------------------------------------------\n",
    "# Instructions: Use Python to complete the following tasks.\n",
    "\n",
    "### 1. Create a variable to store the mass of Earth in kilograms (5.972 × 10^24 kg)\n",
    "### 2. Define a list containing the names of the four Galilean moons of Jupiter.\n",
    "### 3. Use a NumPy array to store the orbital periods (in days) of these moons:\n",
    "####    - Io: 1.77 days, Europa: 3.55 days, Ganymede: 7.15 days, Callisto: 16.69 days\n",
    "### 4. Calculate their periods in hours (1 day = 24 hours) and print the results in different formats.\n",
    "####    - Use string concatenation, f-strings, and regular print formatting.\n",
    "### 5. Identify which of these moons have orbital periods shorter than 5 days and print them.\n",
    "### 6. Create a dictionary called star_catalog with the following information for at least 3 stars:\n",
    "\n",
    "#### - Star name\n",
    "#### - Distance from Earth (light-years)\n",
    "#### - Surface temperature (Kelvin)\n",
    "#### - Brightness magnitude\n",
    "\n",
    "##### Requirements for homework 6:\n",
    "\n",
    "##### -- Use different data types in your dictionary. \n",
    "##### --Print out the entire catalog using a loop. \n",
    "##### --Bonus question: Calculate and print the average temperature of the stars\n",
    "\n",
    "# Save your results and submit your completed notebook."
   ]
  },
  {
   "cell_type": "code",
   "execution_count": null,
   "id": "80ac1b13-6cad-4761-b80f-c415f0fe2af0",
   "metadata": {},
   "outputs": [],
   "source": []
  }
 ],
 "metadata": {
  "kernelspec": {
   "display_name": "Python 3 (ipykernel)",
   "language": "python",
   "name": "python3"
  },
  "language_info": {
   "codemirror_mode": {
    "name": "ipython",
    "version": 3
   },
   "file_extension": ".py",
   "mimetype": "text/x-python",
   "name": "python",
   "nbconvert_exporter": "python",
   "pygments_lexer": "ipython3",
   "version": "3.8.18"
  }
 },
 "nbformat": 4,
 "nbformat_minor": 5
}
