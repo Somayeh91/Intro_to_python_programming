{
 "cells": [
  {
   "cell_type": "markdown",
   "id": "277bb332",
   "metadata": {},
   "source": [
    "# Astronomy Python Basics: Variables and Data Types"
   ]
  },
  {
   "cell_type": "code",
   "execution_count": 1,
   "id": "e6b6088a",
   "metadata": {},
   "outputs": [
    {
     "name": "stdout",
     "output_type": "stream",
     "text": [
      "Intel MKL WARNING: Support of Intel(R) Streaming SIMD Extensions 4.2 (Intel(R) SSE4.2) enabled only processors has been deprecated. Intel oneAPI Math Kernel Library 2025.0 will require Intel(R) Advanced Vector Extensions (Intel(R) AVX) instructions.\n",
      "Intel MKL WARNING: Support of Intel(R) Streaming SIMD Extensions 4.2 (Intel(R) SSE4.2) enabled only processors has been deprecated. Intel oneAPI Math Kernel Library 2025.0 will require Intel(R) Advanced Vector Extensions (Intel(R) AVX) instructions.\n"
     ]
    }
   ],
   "source": [
    "import numpy as np"
   ]
  },
  {
   "cell_type": "markdown",
   "id": "f8fd2fca",
   "metadata": {},
   "source": [
    "## Part 1: Basic Variable Types\n",
    "### Demonstrating different basic variable types used in astronomical data"
   ]
  },
  {
   "cell_type": "code",
   "execution_count": 2,
   "id": "51706005",
   "metadata": {},
   "outputs": [],
   "source": [
    "# Integer - representing number of stars in a cluster\n",
    "stars_in_cluster = 10000\n",
    "\n",
    "# Float - representing distance to a celestial object in light-years\n",
    "andromeda_distance = 2.537e6  # 2.537 million light-years\n",
    "\n",
    "# String - naming celestial objects\n",
    "galaxy_name = \"Andromeda Galaxy\"\n",
    "\n",
    "# Boolean - used for scientific conditions\n",
    "is_exoplanet_habitable = True"
   ]
  },
  {
   "cell_type": "code",
   "execution_count": 4,
   "id": "8b4dda7b",
   "metadata": {},
   "outputs": [],
   "source": [
    "# float16, float32, double"
   ]
  },
  {
   "cell_type": "code",
   "execution_count": 5,
   "id": "e62fcbfc",
   "metadata": {},
   "outputs": [
    {
     "name": "stdout",
     "output_type": "stream",
     "text": [
      "Stars in cluster: 10000\n",
      "Andromeda distance: 2537000.0 light-years\n",
      "Galaxy name: Andromeda Galaxy\n",
      "Habitable exoplanet: True\n"
     ]
    }
   ],
   "source": [
    "print(\"Stars in cluster:\", stars_in_cluster)\n",
    "print(\"Andromeda distance:\", andromeda_distance, \"light-years\")\n",
    "print(\"Galaxy name:\", galaxy_name)\n",
    "print(\"Habitable exoplanet:\", is_exoplanet_habitable)"
   ]
  },
  {
   "cell_type": "markdown",
   "id": "af5c7d65",
   "metadata": {},
   "source": [
    "## Part 2: Lists and Arrays\n",
    "### Different ways to store multiple astronomical measurements"
   ]
  },
  {
   "cell_type": "code",
   "execution_count": 6,
   "id": "7a9fcdd8",
   "metadata": {},
   "outputs": [],
   "source": [
    "# List - flexible collection of different types\n",
    "stellar_temperatures = [5778, 3500, 30000, 4000]\n",
    "planet_names = [\"Earth\", \"Mars\", \"Jupiter\", \"Saturn\"]"
   ]
  },
  {
   "cell_type": "code",
   "execution_count": 7,
   "id": "241aa1d0",
   "metadata": {},
   "outputs": [
    {
     "name": "stdout",
     "output_type": "stream",
     "text": [
      "The third planet is: Jupiter\n",
      "Updated planets: ['Earth', 'Mars', 'Jupiter', 'Saturn', 'Pluto']\n",
      "Planets after removal: ['Earth', 'Mars', 'Jupiter', 'Saturn']\n"
     ]
    }
   ],
   "source": [
    "# Accessing elements in a list\n",
    "print(\"The third planet is:\", planet_names[2])  # Indexing starts from 0 in Python\n",
    "\n",
    "# Adding a new object to the list (e.g., adding Pluto back)\n",
    "planet_names.append(\"Pluto\")\n",
    "print(\"Updated planets:\", planet_names)\n",
    "\n",
    "# Removing an element from the list (if we remove Pluto again)\n",
    "planet_names.remove(\"Pluto\")\n",
    "print(\"Planets after removal:\", planet_names)"
   ]
  },
  {
   "cell_type": "code",
   "execution_count": 8,
   "id": "08b16191",
   "metadata": {},
   "outputs": [
    {
     "name": "stdout",
     "output_type": "stream",
     "text": [
      "Stellar Temperatures: [5778, 3500, 30000, 4000]\n",
      "First planet: Earth\n",
      "Last planet: Saturn\n"
     ]
    }
   ],
   "source": [
    "# List operations\n",
    "print(\"Stellar Temperatures:\", stellar_temperatures)\n",
    "print(\"First planet:\", planet_names[0])\n",
    "print(\"Last planet:\", planet_names[-1])"
   ]
  },
  {
   "cell_type": "code",
   "execution_count": 9,
   "id": "4d615a18",
   "metadata": {},
   "outputs": [
    {
     "name": "stdout",
     "output_type": "stream",
     "text": [
      "Distances of planets from the Sun (in AU): [ 0.39  0.72  1.    1.52  5.2   9.58 19.22 30.05]\n",
      "Data type of distances array: float32\n"
     ]
    }
   ],
   "source": [
    "# Arrays in Python using NumPy\n",
    "import numpy as np\n",
    "\n",
    "# Arrays are more efficient for numerical operations than lists.\n",
    "# Example: Storing distances of planets from the Sun in AU (Astronomical Units)\n",
    "\n",
    "distances = np.array([0.39, 0.72, 1.0, 1.52, 5.2, 9.58, 19.22, 30.05], \n",
    "                     dtype=np.float32)\n",
    "print(\"Distances of planets from the Sun (in AU):\", distances)\n",
    "print(\"Data type of distances array:\", distances.dtype)  # Checking dtype of array"
   ]
  },
  {
   "cell_type": "code",
   "execution_count": 10,
   "id": "e8b7eeb5",
   "metadata": {},
   "outputs": [
    {
     "name": "stdout",
     "output_type": "stream",
     "text": [
      "Distances in million km: [  58.344     107.712006  149.6       227.39201   777.92     1433.1681\n",
      " 2875.312    4495.48    ]\n",
      "Distances in million km (as integers): [  58  107  149  227  777 1433 2875 4495]\n",
      "New dtype: int32\n",
      "Inner planets distances (in AU): [0.39 0.72 1.   1.52]\n"
     ]
    }
   ],
   "source": [
    "# Performing mathematical operations on arrays\n",
    "scaled_distances = distances * 149.6  # Convert AU to millions of km\n",
    "print(\"Distances in million km:\", scaled_distances)\n",
    "\n",
    "# Changing dtype of an array\n",
    "scaled_distances_int = scaled_distances.astype(np.int32)\n",
    "print(\"Distances in million km (as integers):\", scaled_distances_int)\n",
    "print(\"New dtype:\", scaled_distances_int.dtype)\n",
    "\n",
    "# Slicing an array (e.g., inner planets only)\n",
    "inner_planets = distances[:4]  # First four elements\n",
    "print(\"Inner planets distances (in AU):\", inner_planets)"
   ]
  },
  {
   "cell_type": "code",
   "execution_count": 11,
   "id": "09c5ace2",
   "metadata": {},
   "outputs": [
    {
     "name": "stdout",
     "output_type": "stream",
     "text": [
      "Mean star magnitude: 8.459999\n",
      "Maximum star magnitude: 30.05\n"
     ]
    }
   ],
   "source": [
    "# Numpy array operations\n",
    "print(\"Mean star magnitude:\", np.mean(distances))\n",
    "print(\"Maximum star magnitude:\", np.max(distances))"
   ]
  },
  {
   "cell_type": "markdown",
   "id": "043b97c3",
   "metadata": {},
   "source": [
    "## Part 3: Data Types and Type Conversion\n",
    "### Understanding and converting between different data types"
   ]
  },
  {
   "cell_type": "code",
   "execution_count": 12,
   "id": "12d59506",
   "metadata": {},
   "outputs": [
    {
     "name": "stdout",
     "output_type": "stream",
     "text": [
      "Type of stars_in_cluster: <class 'int'>\n",
      "Type of andromeda_distance: <class 'float'>\n"
     ]
    }
   ],
   "source": [
    "# Type checking\n",
    "print(\"Type of stars_in_cluster:\", type(stars_in_cluster))\n",
    "print(\"Type of andromeda_distance:\", type(andromeda_distance))"
   ]
  },
  {
   "cell_type": "code",
   "execution_count": 13,
   "id": "059abef2",
   "metadata": {},
   "outputs": [
    {
     "name": "stdout",
     "output_type": "stream",
     "text": [
      "\n",
      "Converted types:\n",
      "Stars as string: 10000 Type: <class 'str'>\n",
      "Distance as integer: 2537000 Type: <class 'int'>\n"
     ]
    }
   ],
   "source": [
    "# Type conversion\n",
    "stars_as_string = str(stars_in_cluster)\n",
    "distance_as_integer = int(andromeda_distance)\n",
    "\n",
    "print(\"\\nConverted types:\")\n",
    "print(\"Stars as string:\", stars_as_string, \"Type:\", type(stars_as_string))\n",
    "print(\"Distance as integer:\", distance_as_integer, \"Type:\", type(distance_as_integer))"
   ]
  },
  {
   "cell_type": "markdown",
   "id": "fddd4262",
   "metadata": {},
   "source": [
    "## Part 4: Advanced Printing Techniques\n",
    "### Different ways to format and print information"
   ]
  },
  {
   "cell_type": "code",
   "execution_count": 16,
   "id": "6a238e24",
   "metadata": {},
   "outputs": [
    {
     "name": "stdout",
     "output_type": "stream",
     "text": [
      "Telescope: Hubble Space Telescope, Launched in: 1990\n"
     ]
    }
   ],
   "source": [
    "# F-strings (formatted string literals)\n",
    "telescope_name = \"Hubble Space Telescope\"\n",
    "observation_year = 1990\n",
    "print(f\"Telescope: {telescope_name}, Launched in: {observation_year}\")"
   ]
  },
  {
   "cell_type": "code",
   "execution_count": 17,
   "id": "27fca805",
   "metadata": {},
   "outputs": [
    {
     "name": "stdout",
     "output_type": "stream",
     "text": [
      "\n",
      "Multiple Variables:\n",
      "Galaxy: Andromeda Galaxy | Distance: 2537000.0 light-years\n"
     ]
    }
   ],
   "source": [
    "# Multiple variable printing\n",
    "print(\"\\nMultiple Variables:\")\n",
    "print(\"Galaxy:\", galaxy_name, \"| Distance:\", andromeda_distance, \"light-years\")"
   ]
  },
  {
   "cell_type": "code",
   "execution_count": 18,
   "id": "f17a7079",
   "metadata": {},
   "outputs": [
    {
     "name": "stdout",
     "output_type": "stream",
     "text": [
      "\n",
      "Precision Formatting:\n",
      "Earth's orbital period: 365.26 days\n"
     ]
    }
   ],
   "source": [
    "# Formatted printing with precision\n",
    "orbital_period = 365.256  # Earth's orbital period\n",
    "print(\"\\nPrecision Formatting:\")\n",
    "print(f\"Earth's orbital period: {orbital_period:.2f} days\")"
   ]
  },
  {
   "cell_type": "code",
   "execution_count": 20,
   "id": "bf95d7b3",
   "metadata": {},
   "outputs": [
    {
     "name": "stdout",
     "output_type": "stream",
     "text": [
      "\n",
      "Precision Formatting:\n",
      "Earth's orbital period: 365.26 days\n"
     ]
    }
   ],
   "source": [
    "# Formatted printing with precision\n",
    "orbital_period = 365.256  # Earth's orbital period\n",
    "print(\"\\nPrecision Formatting:\")\n",
    "print(\"Earth's orbital period: %.2f days\"%orbital_period)"
   ]
  },
  {
   "cell_type": "markdown",
   "id": "bbb4985c",
   "metadata": {},
   "source": [
    "## Part 5: Astronomy Data Handling\n",
    "### Creating a simple dataset of exoplanets"
   ]
  },
  {
   "cell_type": "code",
   "execution_count": 21,
   "id": "d75dad0b",
   "metadata": {},
   "outputs": [],
   "source": [
    "# Dictionary to store exoplanet information\n",
    "exoplanets = {\n",
    "    \"Kepler-22b\": {\"distance\": 600, \"radius\": 2.4, \"habitable\": True},\n",
    "    \"TRAPPIST-1e\": {\"distance\": 39, \"radius\": 0.92, \"habitable\": True},\n",
    "    \"HD 209458 b\": {\"distance\": 159, \"radius\": 1.32, \"habitable\": False}\n",
    "}"
   ]
  },
  {
   "cell_type": "code",
   "execution_count": 22,
   "id": "a18a74e3",
   "metadata": {},
   "outputs": [
    {
     "data": {
      "text/plain": [
       "dict_keys(['Kepler-22b', 'TRAPPIST-1e', 'HD 209458 b'])"
      ]
     },
     "execution_count": 22,
     "metadata": {},
     "output_type": "execute_result"
    }
   ],
   "source": [
    "exoplanets.keys()"
   ]
  },
  {
   "cell_type": "code",
   "execution_count": 70,
   "id": "695b00ce",
   "metadata": {},
   "outputs": [
    {
     "data": {
      "text/plain": [
       "dict_keys(['distance', 'radius', 'habitable'])"
      ]
     },
     "execution_count": 70,
     "metadata": {},
     "output_type": "execute_result"
    }
   ],
   "source": [
    "exoplanets['Kepler-22b'].keys()"
   ]
  },
  {
   "cell_type": "code",
   "execution_count": 73,
   "id": "d6225edb",
   "metadata": {},
   "outputs": [
    {
     "data": {
      "text/plain": [
       "600"
      ]
     },
     "execution_count": 73,
     "metadata": {},
     "output_type": "execute_result"
    }
   ],
   "source": [
    "exoplanets['Kepler-22b']['distance']"
   ]
  },
  {
   "cell_type": "code",
   "execution_count": 63,
   "id": "a8346107",
   "metadata": {},
   "outputs": [
    {
     "data": {
      "text/plain": [
       "dict_items([('Kepler-22b', {'distance': 600, 'radius': 2.4, 'habitable': True}), ('TRAPPIST-1e', {'distance': 39, 'radius': 0.92, 'habitable': True}), ('HD 209458 b', {'distance': 159, 'radius': 1.32, 'habitable': False})])"
      ]
     },
     "execution_count": 63,
     "metadata": {},
     "output_type": "execute_result"
    }
   ],
   "source": [
    "exoplanets.items()"
   ]
  },
  {
   "cell_type": "code",
   "execution_count": 23,
   "id": "6a3c03ba",
   "metadata": {},
   "outputs": [
    {
     "name": "stdout",
     "output_type": "stream",
     "text": [
      "\n",
      "Exoplanet Information:\n",
      "Kepler-22b: Distance = 600 light-years, Radius = 2.40 Earth radii, Habitable = True\n",
      "TRAPPIST-1e: Distance = 39 light-years, Radius = 0.92 Earth radii, Habitable = True\n",
      "HD 209458 b: Distance = 159 light-years, Radius = 1.32 Earth radii, Habitable = False\n"
     ]
    }
   ],
   "source": [
    "# Iterating and printing exoplanet data\n",
    "print(\"\\nExoplanet Information:\")\n",
    "\n",
    "\n",
    "\n",
    "for item in exoplanets.items():\n",
    "    \n",
    "    name, details = item[0], item[1]\n",
    "    \n",
    "    # print(f\"{name}: Distance = {details['distance']} light-years, \"\n",
    "    #       f\"Radius = {details['radius']} Earth radii, \"\n",
    "    #       f\"Habitable = {details['habitable']}\")\n",
    "\n",
    "    print(\"%s: Distance = %i light-years, \"\n",
    "          \"Radius = %.2f Earth radii, \"\n",
    "          \"Habitable = %s\" %(name, \n",
    "                             details['distance'], \n",
    "                             details['radius'], \n",
    "                             details['habitable']))"
   ]
  },
  {
   "cell_type": "markdown",
   "id": "fb51bf28",
   "metadata": {},
   "source": [
    "# Homework Assignment: Applying Variables in Astronomy\n",
    "# ------------------------------------------\n",
    "# Instructions: Use Python to complete the following tasks.\n",
    "\n",
    "### 1. Create a variable to store the mass of Earth in kilograms (5.972 × 10^24 kg)\n",
    "### 2. Define a list containing the names of the four Galilean moons of Jupiter.\n",
    "### 3. Use a NumPy array to store the orbital periods (in days) of these moons:\n",
    "####    - Io: 1.77 days, Europa: 3.55 days, Ganymede: 7.15 days, Callisto: 16.69 days\n",
    "### 4. Calculate their periods in hours (1 day = 24 hours) and print the results in different formats.\n",
    "####    - Use string concatenation, f-strings, and regular print formatting.\n",
    "### 5. Identify which of these moons have orbital periods shorter than 5 days and print them.\n",
    "### 6. Create a dictionary called star_catalog with the following information for at least 3 stars:\n",
    "\n",
    "#### - Star name\n",
    "#### - Distance from Earth (light-years)\n",
    "#### - Surface temperature (Kelvin)\n",
    "#### - Brightness magnitude\n",
    "\n",
    "##### Requirements for homework 6:\n",
    "\n",
    "##### -- Use different data types in your dictionary. \n",
    "##### --Print out the entire catalog using a loop. \n",
    "##### --Bonus question: Calculate and print the average temperature of the stars\n",
    "\n",
    "# Save your results and submit your completed notebook."
   ]
  },
  {
   "cell_type": "code",
   "execution_count": null,
   "id": "5c0c296f",
   "metadata": {},
   "outputs": [],
   "source": []
  },
  {
   "cell_type": "code",
   "execution_count": null,
   "id": "d21417e5",
   "metadata": {},
   "outputs": [],
   "source": []
  },
  {
   "cell_type": "code",
   "execution_count": null,
   "id": "68c318c9",
   "metadata": {},
   "outputs": [],
   "source": []
  },
  {
   "cell_type": "code",
   "execution_count": null,
   "id": "2290c863",
   "metadata": {},
   "outputs": [],
   "source": []
  }
 ],
 "metadata": {
  "kernelspec": {
   "display_name": "Python 3 (ipykernel)",
   "language": "python",
   "name": "python3"
  },
  "language_info": {
   "codemirror_mode": {
    "name": "ipython",
    "version": 3
   },
   "file_extension": ".py",
   "mimetype": "text/x-python",
   "name": "python",
   "nbconvert_exporter": "python",
   "pygments_lexer": "ipython3",
   "version": "3.8.18"
  }
 },
 "nbformat": 4,
 "nbformat_minor": 5
}
