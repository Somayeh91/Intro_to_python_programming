{
 "cells": [
  {
   "cell_type": "code",
   "execution_count": 1,
   "id": "d10a0106-2268-4d35-961b-049868be4caa",
   "metadata": {},
   "outputs": [
    {
     "name": "stdout",
     "output_type": "stream",
     "text": [
      "Intel MKL WARNING: Support of Intel(R) Streaming SIMD Extensions 4.2 (Intel(R) SSE4.2) enabled only processors has been deprecated. Intel oneAPI Math Kernel Library 2025.0 will require Intel(R) Advanced Vector Extensions (Intel(R) AVX) instructions.\n",
      "Intel MKL WARNING: Support of Intel(R) Streaming SIMD Extensions 4.2 (Intel(R) SSE4.2) enabled only processors has been deprecated. Intel oneAPI Math Kernel Library 2025.0 will require Intel(R) Advanced Vector Extensions (Intel(R) AVX) instructions.\n"
     ]
    }
   ],
   "source": [
    "# Astronomy Python Session 2: Pandas DataFrames, Loops, and Conditionals\n",
    "\n",
    "# Cell 1: Introduction to Pandas DataFrames\n",
    "# Pandas is essential for astronomical data analysis\n",
    "\n",
    "import pandas as pd\n",
    "import numpy as np\n",
    "import matplotlib.pyplot as plt"
   ]
  },
  {
   "cell_type": "markdown",
   "id": "c21511ff-1c7e-46a4-823f-59b57bbf3cc2",
   "metadata": {},
   "source": [
    "# Part 1: Creating a DataFrame with astronomical data"
   ]
  },
  {
   "cell_type": "code",
   "execution_count": 6,
   "id": "129735bc-16fc-4358-a41a-55cc3240f968",
   "metadata": {},
   "outputs": [],
   "source": [
    "# This represents a small catalog of exoplanets\n",
    "\n",
    "# First, we create a dictionary with our data\n",
    "exoplanet_data = {\n",
    "    'name': ['Kepler-186f', 'TRAPPIST-1e', 'Proxima Centauri b', 'TOI-700 d', 'HD 219134 b'],\n",
    "    'distance_ly': [582, 39, 4.2, 101.5, 21.3],\n",
    "    'radius_earth': [1.17, 0.91, 1.08, 1.19, 1.6],\n",
    "    'orbital_period_days': [129.9, 6.1, 11.2, 37.4, 3.1],\n",
    "    'star_type': ['M dwarf', 'M dwarf', 'M dwarf', 'M dwarf', 'K dwarf'],\n",
    "    'potentially_habitable': [True, True, True, True, False]\n",
    "}\n"
   ]
  },
  {
   "cell_type": "code",
   "execution_count": 3,
   "id": "a9af3eea-7651-4dc3-a7b1-56e370734941",
   "metadata": {},
   "outputs": [],
   "source": [
    "# Converting to a DataFrame\n",
    "exoplanets_df = pd.DataFrame(exoplanet_data)"
   ]
  },
  {
   "cell_type": "code",
   "execution_count": 5,
   "id": "32822de4-5b1d-4fab-91d3-dc1845f73264",
   "metadata": {},
   "outputs": [
    {
     "data": {
      "text/html": [
       "<div>\n",
       "<style scoped>\n",
       "    .dataframe tbody tr th:only-of-type {\n",
       "        vertical-align: middle;\n",
       "    }\n",
       "\n",
       "    .dataframe tbody tr th {\n",
       "        vertical-align: top;\n",
       "    }\n",
       "\n",
       "    .dataframe thead th {\n",
       "        text-align: right;\n",
       "    }\n",
       "</style>\n",
       "<table border=\"1\" class=\"dataframe\">\n",
       "  <thead>\n",
       "    <tr style=\"text-align: right;\">\n",
       "      <th></th>\n",
       "      <th>name</th>\n",
       "      <th>distance_ly</th>\n",
       "      <th>radius_earth</th>\n",
       "      <th>orbital_period_days</th>\n",
       "      <th>star_type</th>\n",
       "      <th>potentially_habitable</th>\n",
       "    </tr>\n",
       "  </thead>\n",
       "  <tbody>\n",
       "    <tr>\n",
       "      <th>0</th>\n",
       "      <td>Kepler-186f</td>\n",
       "      <td>582.0</td>\n",
       "      <td>1.17</td>\n",
       "      <td>129.9</td>\n",
       "      <td>M dwarf</td>\n",
       "      <td>True</td>\n",
       "    </tr>\n",
       "    <tr>\n",
       "      <th>1</th>\n",
       "      <td>TRAPPIST-1e</td>\n",
       "      <td>39.0</td>\n",
       "      <td>0.91</td>\n",
       "      <td>6.1</td>\n",
       "      <td>M dwarf</td>\n",
       "      <td>True</td>\n",
       "    </tr>\n",
       "    <tr>\n",
       "      <th>2</th>\n",
       "      <td>Proxima Centauri b</td>\n",
       "      <td>4.2</td>\n",
       "      <td>1.08</td>\n",
       "      <td>11.2</td>\n",
       "      <td>M dwarf</td>\n",
       "      <td>True</td>\n",
       "    </tr>\n",
       "    <tr>\n",
       "      <th>3</th>\n",
       "      <td>TOI-700 d</td>\n",
       "      <td>101.5</td>\n",
       "      <td>1.19</td>\n",
       "      <td>37.4</td>\n",
       "      <td>M dwarf</td>\n",
       "      <td>True</td>\n",
       "    </tr>\n",
       "    <tr>\n",
       "      <th>4</th>\n",
       "      <td>HD 219134 b</td>\n",
       "      <td>21.3</td>\n",
       "      <td>1.60</td>\n",
       "      <td>3.1</td>\n",
       "      <td>K dwarf</td>\n",
       "      <td>False</td>\n",
       "    </tr>\n",
       "  </tbody>\n",
       "</table>\n",
       "</div>"
      ],
      "text/plain": [
       "                 name  distance_ly  radius_earth  orbital_period_days  \\\n",
       "0         Kepler-186f        582.0          1.17                129.9   \n",
       "1         TRAPPIST-1e         39.0          0.91                  6.1   \n",
       "2  Proxima Centauri b          4.2          1.08                 11.2   \n",
       "3           TOI-700 d        101.5          1.19                 37.4   \n",
       "4         HD 219134 b         21.3          1.60                  3.1   \n",
       "\n",
       "  star_type  potentially_habitable  \n",
       "0   M dwarf                   True  \n",
       "1   M dwarf                   True  \n",
       "2   M dwarf                   True  \n",
       "3   M dwarf                   True  \n",
       "4   K dwarf                  False  "
      ]
     },
     "execution_count": 5,
     "metadata": {},
     "output_type": "execute_result"
    }
   ],
   "source": [
    "# Display the DataFrame\n",
    "exoplanets_df"
   ]
  },
  {
   "cell_type": "markdown",
   "id": "bab9ee7a-32b9-4697-b209-3429b1335e75",
   "metadata": {},
   "source": [
    "# Part 2: Basic DataFrame Operations\n"
   ]
  },
  {
   "cell_type": "code",
   "execution_count": 7,
   "id": "f5b70f56-9620-490c-a3cc-d7d9b4562400",
   "metadata": {},
   "outputs": [
    {
     "name": "stdout",
     "output_type": "stream",
     "text": [
      "\n",
      "DataFrame Information:\n",
      "<class 'pandas.core.frame.DataFrame'>\n",
      "RangeIndex: 5 entries, 0 to 4\n",
      "Data columns (total 6 columns):\n",
      " #   Column                 Non-Null Count  Dtype  \n",
      "---  ------                 --------------  -----  \n",
      " 0   name                   5 non-null      object \n",
      " 1   distance_ly            5 non-null      float64\n",
      " 2   radius_earth           5 non-null      float64\n",
      " 3   orbital_period_days    5 non-null      float64\n",
      " 4   star_type              5 non-null      object \n",
      " 5   potentially_habitable  5 non-null      bool   \n",
      "dtypes: bool(1), float64(3), object(2)\n",
      "memory usage: 333.0+ bytes\n",
      "None\n"
     ]
    }
   ],
   "source": [
    "# Common operations used in astronomy data analysis\n",
    "\n",
    "# Getting information about the DataFrame\n",
    "print(\"\\nDataFrame Information:\")\n",
    "print(exoplanets_df.info())"
   ]
  },
  {
   "cell_type": "code",
   "execution_count": 8,
   "id": "5e56c6ff-eb05-4f28-8d84-acbd8b2c24ef",
   "metadata": {},
   "outputs": [
    {
     "name": "stdout",
     "output_type": "stream",
     "text": [
      "\n",
      "Summary Statistics:\n",
      "       distance_ly  radius_earth  orbital_period_days\n",
      "count     5.000000       5.00000             5.000000\n",
      "mean    149.600000       1.19000            37.540000\n",
      "std     244.498354       0.25446            53.382516\n",
      "min       4.200000       0.91000             3.100000\n",
      "25%      21.300000       1.08000             6.100000\n",
      "50%      39.000000       1.17000            11.200000\n",
      "75%     101.500000       1.19000            37.400000\n",
      "max     582.000000       1.60000           129.900000\n"
     ]
    }
   ],
   "source": [
    "# Summary statistics for numerical columns\n",
    "print(\"\\nSummary Statistics:\")\n",
    "print(exoplanets_df.describe())"
   ]
  },
  {
   "cell_type": "code",
   "execution_count": 9,
   "id": "5835acdf-b4eb-4829-9602-ed4c7332a479",
   "metadata": {},
   "outputs": [
    {
     "name": "stdout",
     "output_type": "stream",
     "text": [
      "\n",
      "Exoplanet Distances (light-years):\n",
      "0    582.0\n",
      "1     39.0\n",
      "2      4.2\n",
      "3    101.5\n",
      "4     21.3\n",
      "Name: distance_ly, dtype: float64\n"
     ]
    }
   ],
   "source": [
    "# Accessing specific columns\n",
    "print(\"\\nExoplanet Distances (light-years):\")\n",
    "print(exoplanets_df['distance_ly'])"
   ]
  },
  {
   "cell_type": "code",
   "execution_count": 10,
   "id": "3aa41559-802b-43fb-853d-cd4a696bd5e1",
   "metadata": {},
   "outputs": [
    {
     "name": "stdout",
     "output_type": "stream",
     "text": [
      "\n",
      "Second exoplanet in our catalog:\n",
      "name                     TRAPPIST-1e\n",
      "distance_ly                     39.0\n",
      "radius_earth                    0.91\n",
      "orbital_period_days              6.1\n",
      "star_type                    M dwarf\n",
      "potentially_habitable           True\n",
      "Name: 1, dtype: object\n"
     ]
    }
   ],
   "source": [
    "# Accessing specific rows by index\n",
    "print(\"\\nSecond exoplanet in our catalog:\")\n",
    "print(exoplanets_df.iloc[1])"
   ]
  },
  {
   "cell_type": "code",
   "execution_count": 11,
   "id": "ca11994c-f3e4-4aea-af61-7ce5cc4ced34",
   "metadata": {},
   "outputs": [
    {
     "name": "stdout",
     "output_type": "stream",
     "text": [
      "\n",
      "The radius of Proxima Centauri b:\n",
      "1.08 Earth radii\n"
     ]
    }
   ],
   "source": [
    "# Accessing data by row and column\n",
    "print(\"\\nThe radius of Proxima Centauri b:\")\n",
    "proxima_row = exoplanets_df[exoplanets_df['name'] == 'Proxima Centauri b'].index[0]\n",
    "print(exoplanets_df.loc[proxima_row, 'radius_earth'], \"Earth radii\")"
   ]
  },
  {
   "cell_type": "markdown",
   "id": "be3e3eda-b8f8-4c92-847e-bc664330209c",
   "metadata": {},
   "source": [
    "# Part 3: DataFrame Manipulation"
   ]
  },
  {
   "cell_type": "code",
   "execution_count": 12,
   "id": "7974aa24-de83-47c1-bddf-8c93d7f917ec",
   "metadata": {},
   "outputs": [
    {
     "name": "stdout",
     "output_type": "stream",
     "text": [
      "Potentially Habitable Planets:\n",
      "                 name  distance_ly  radius_earth\n",
      "0         Kepler-186f        582.0          1.17\n",
      "1         TRAPPIST-1e         39.0          0.91\n",
      "2  Proxima Centauri b          4.2          1.08\n",
      "3           TOI-700 d        101.5          1.19\n"
     ]
    }
   ],
   "source": [
    "# How to filter, sort, and modify astronomical data\n",
    "\n",
    "# Filtering data - find potentially habitable planets\n",
    "habitable_planets = exoplanets_df[exoplanets_df['potentially_habitable'] == True]\n",
    "print(\"Potentially Habitable Planets:\")\n",
    "print(habitable_planets[['name', 'distance_ly', 'radius_earth']])"
   ]
  },
  {
   "cell_type": "code",
   "execution_count": 13,
   "id": "4d8e9b8e-7e91-4ad8-a0db-2c9b215ce457",
   "metadata": {},
   "outputs": [
    {
     "name": "stdout",
     "output_type": "stream",
     "text": [
      "\n",
      "Planets Sorted by Distance:\n",
      "                 name  distance_ly\n",
      "2  Proxima Centauri b          4.2\n",
      "4         HD 219134 b         21.3\n",
      "1         TRAPPIST-1e         39.0\n",
      "3           TOI-700 d        101.5\n",
      "0         Kepler-186f        582.0\n"
     ]
    }
   ],
   "source": [
    "# Sorting data - from nearest to farthest\n",
    "sorted_by_distance = exoplanets_df.sort_values('distance_ly')\n",
    "print(\"\\nPlanets Sorted by Distance:\")\n",
    "print(sorted_by_distance[['name', 'distance_ly']])"
   ]
  },
  {
   "cell_type": "code",
   "execution_count": 14,
   "id": "879d53a8-3b29-4521-9593-7ca23186ff86",
   "metadata": {},
   "outputs": [
    {
     "name": "stdout",
     "output_type": "stream",
     "text": [
      "\n",
      "DataFrame with distance in parsecs:\n",
      "                 name  distance_ly  distance_parsecs\n",
      "0         Kepler-186f        582.0          178.6740\n",
      "1         TRAPPIST-1e         39.0           11.9730\n",
      "2  Proxima Centauri b          4.2            1.2894\n",
      "3           TOI-700 d        101.5           31.1605\n",
      "4         HD 219134 b         21.3            6.5391\n"
     ]
    }
   ],
   "source": [
    "# Adding a new column - calculated field\n",
    "# Converting light-years to parsecs (1 ly ≈ 0.307 parsecs)\n",
    "exoplanets_df['distance_parsecs'] = exoplanets_df['distance_ly'] * 0.307\n",
    "print(\"\\nDataFrame with distance in parsecs:\")\n",
    "print(exoplanets_df[['name', 'distance_ly', 'distance_parsecs']])"
   ]
  },
  {
   "cell_type": "markdown",
   "id": "c1e0a39d-84c2-4846-95a9-c4341e4198a8",
   "metadata": {},
   "source": [
    "# Part 4: For Loops"
   ]
  },
  {
   "cell_type": "code",
   "execution_count": 16,
   "id": "db41469b-9e6f-4bf2-a1cc-e8699518655b",
   "metadata": {},
   "outputs": [
    {
     "name": "stdout",
     "output_type": "stream",
     "text": [
      "\n",
      "Iterating through planets:\n",
      "Planet: Kepler-186f\n",
      "  Distance: 582.0 light-years\n",
      "  Radius: 1.17 Earth radii\n",
      "  Orbital period: 129.9 days\n",
      "---\n",
      "Planet: TRAPPIST-1e\n",
      "  Distance: 39.0 light-years\n",
      "  Radius: 0.91 Earth radii\n",
      "  Orbital period: 6.1 days\n",
      "---\n",
      "Planet: Proxima Centauri b\n",
      "  Distance: 4.2 light-years\n",
      "  Radius: 1.08 Earth radii\n",
      "  Orbital period: 11.2 days\n",
      "---\n",
      "Planet: TOI-700 d\n",
      "  Distance: 101.5 light-years\n",
      "  Radius: 1.19 Earth radii\n",
      "  Orbital period: 37.4 days\n",
      "---\n",
      "Planet: HD 219134 b\n",
      "  Distance: 21.3 light-years\n",
      "  Radius: 1.6 Earth radii\n",
      "  Orbital period: 3.1 days\n",
      "---\n"
     ]
    }
   ],
   "source": [
    "# Iterating through astronomical data\n",
    "\n",
    "# Loop through all planets and print their details\n",
    "print(\"\\nIterating through planets:\")\n",
    "for index, planet in exoplanets_df.iterrows():\n",
    "    print(f\"Planet: {planet['name']}\")\n",
    "    print(f\"  Distance: {planet['distance_ly']} light-years\")\n",
    "    print(f\"  Radius: {planet['radius_earth']} Earth radii\")\n",
    "    print(f\"  Orbital period: {planet['orbital_period_days']} days\")\n",
    "    print(\"---\")"
   ]
  },
  {
   "cell_type": "code",
   "execution_count": 17,
   "id": "5b3a99a3-a9dd-422a-b9ad-955786a7f673",
   "metadata": {},
   "outputs": [
    {
     "name": "stdout",
     "output_type": "stream",
     "text": [
      "\n",
      "Calculating surface gravity estimates:\n",
      "Kepler-186f: ~11.5 m/s²\n",
      "TRAPPIST-1e: ~8.9 m/s²\n",
      "Proxima Centauri b: ~10.6 m/s²\n",
      "TOI-700 d: ~11.7 m/s²\n",
      "HD 219134 b: ~15.7 m/s²\n"
     ]
    }
   ],
   "source": [
    "# Computing custom values in a loop\n",
    "print(\"\\nCalculating surface gravity estimates:\")\n",
    "# Assume Earth's surface gravity is 9.8 m/s²\n",
    "# A crude approximation: gravity scales with radius\n",
    "for index, planet in exoplanets_df.iterrows():\n",
    "    # Very simplified gravity calculation\n",
    "    approx_gravity = 9.8 * planet['radius_earth']\n",
    "    print(f\"{planet['name']}: ~{approx_gravity:.1f} m/s²\")"
   ]
  },
  {
   "cell_type": "markdown",
   "id": "a02c73c9-659c-422f-bbad-4cf1503b78d3",
   "metadata": {},
   "source": [
    "# Part 5: If Statements"
   ]
  },
  {
   "cell_type": "code",
   "execution_count": 19,
   "id": "9b15ef6c-2d3c-4856-9076-1f5741483e4f",
   "metadata": {},
   "outputs": [
    {
     "name": "stdout",
     "output_type": "stream",
     "text": [
      "\n",
      "Classifying planets by distance:\n",
      "Kepler-186f - Distant\n",
      "TRAPPIST-1e - Nearby\n",
      "Proxima Centauri b - Very nearby\n",
      "TOI-700 d - Distant\n",
      "HD 219134 b - Nearby\n"
     ]
    }
   ],
   "source": [
    "# Making decisions based on astronomical data\n",
    "\n",
    "print(\"\\nClassifying planets by distance:\")\n",
    "\n",
    "for index, planet in exoplanets_df.iterrows():\n",
    "    if planet['distance_ly'] < 10:\n",
    "        category = \"Very nearby\"\n",
    "    elif planet['distance_ly'] < 50:\n",
    "        category = \"Nearby\"\n",
    "    elif planet['distance_ly'] < 100:\n",
    "        category = \"Intermediate distance\"\n",
    "    else:\n",
    "        category = \"Distant\"\n",
    "    \n",
    "    print(f\"{planet['name']} - {category}\")"
   ]
  },
  {
   "cell_type": "code",
   "execution_count": 20,
   "id": "cfc191ba-704f-4ad2-baf3-a4101acd74f3",
   "metadata": {},
   "outputs": [
    {
     "name": "stdout",
     "output_type": "stream",
     "text": [
      "\n",
      "Exoplanet habitability assessment:\n",
      "Kepler-186f: Interesting target, but challenging to observe\n",
      "TRAPPIST-1e: High-priority target for further study\n",
      "Proxima Centauri b: High-priority target for further study\n",
      "TOI-700 d: Interesting target, but challenging to observe\n",
      "HD 219134 b: Not a primary habitability target\n"
     ]
    }
   ],
   "source": [
    "# Classifying by multiple conditions\n",
    "print(\"\\nExoplanet habitability assessment:\")\n",
    "for index, planet in exoplanets_df.iterrows():\n",
    "    if planet['potentially_habitable'] and planet['distance_ly'] < 50:\n",
    "        assessment = \"High-priority target for further study\"\n",
    "    elif planet['potentially_habitable']:\n",
    "        assessment = \"Interesting target, but challenging to observe\"\n",
    "    else:\n",
    "        assessment = \"Not a primary habitability target\"\n",
    "    \n",
    "    print(f\"{planet['name']}: {assessment}\")"
   ]
  },
  {
   "cell_type": "markdown",
   "id": "b241bef8-5600-4d11-ae14-f5385322428b",
   "metadata": {},
   "source": [
    "# Part 6: While Loops"
   ]
  },
  {
   "cell_type": "code",
   "execution_count": 21,
   "id": "fec27c9d-03ba-482e-b0e4-46f498172971",
   "metadata": {},
   "outputs": [
    {
     "name": "stdout",
     "output_type": "stream",
     "text": [
      "\n",
      "Simulating orbital positions:\n",
      "Orbital simulation for TRAPPIST-1e (Period: 6.1 days)\n",
      "Day 0.0: Angle = 0.0°, Position = (1.00, 0.00)\n",
      "Day 1.0: Angle = 59.0°, Position = (0.51, 0.86)\n",
      "Day 2.0: Angle = 118.0°, Position = (-0.47, 0.88)\n",
      "Day 3.0: Angle = 177.0°, Position = (-1.00, 0.05)\n",
      "Day 4.0: Angle = 236.1°, Position = (-0.56, -0.83)\n",
      "Day 5.0: Angle = 295.1°, Position = (0.42, -0.91)\n",
      "Day 6.0: Angle = 354.1°, Position = (0.99, -0.10)\n",
      "Day 7.0: Angle = 53.1°, Position = (0.60, 0.80)\n",
      "Day 8.0: Angle = 112.1°, Position = (-0.38, 0.93)\n",
      "Day 9.0: Angle = 171.1°, Position = (-0.99, 0.15)\n",
      "Day 10.0: Angle = 230.2°, Position = (-0.64, -0.77)\n",
      "Day 11.0: Angle = 289.2°, Position = (0.33, -0.94)\n",
      "Day 12.0: Angle = 348.2°, Position = (0.98, -0.20)\n",
      "Day 13.0: Angle = 47.2°, Position = (0.68, 0.73)\n",
      "Day 14.0: Angle = 106.2°, Position = (-0.28, 0.96)\n",
      "Day 15.0: Angle = 165.2°, Position = (-0.97, 0.25)\n"
     ]
    }
   ],
   "source": [
    "# While loops can be useful for astronomical simulations\n",
    "\n",
    "# Simple orbital position simulation\n",
    "print(\"\\nSimulating orbital positions:\")\n",
    "\n",
    "# Let's simulate the position of a planet over time\n",
    "planet_name = \"TRAPPIST-1e\"\n",
    "planet_data = exoplanets_df[exoplanets_df['name'] == planet_name].iloc[0]\n",
    "orbital_period = planet_data['orbital_period_days']\n",
    "\n",
    "# Simulation parameters\n",
    "time = 0\n",
    "time_step = 1  # day\n",
    "max_time = 15  # days\n",
    "orbital_angle = 0\n",
    "\n",
    "print(f\"Orbital simulation for {planet_name} (Period: {orbital_period} days)\")\n",
    "\n",
    "while time <= max_time:\n",
    "    # Calculate orbital angle (in degrees)\n",
    "    orbital_angle = (time / orbital_period) * 360 % 360\n",
    "    \n",
    "    # Simple position calculation (assuming circular orbit)\n",
    "    x = np.cos(np.radians(orbital_angle))\n",
    "    y = np.sin(np.radians(orbital_angle))\n",
    "    \n",
    "    # Print the time and position\n",
    "    print(f\"Day {time:.1f}: Angle = {orbital_angle:.1f}°, Position = ({x:.2f}, {y:.2f})\")\n",
    "    \n",
    "    # Increment time\n",
    "    time += time_step"
   ]
  },
  {
   "cell_type": "markdown",
   "id": "9d8b3e2f-eb06-4f44-98ab-9d17541db592",
   "metadata": {},
   "source": [
    "# Part 7: Combining Everything"
   ]
  },
  {
   "cell_type": "markdown",
   "id": "48665a93-e276-4218-ad5e-3e081f08bf04",
   "metadata": {},
   "source": [
    "### Let's now combines all these concepts to do a real-world astronomy data analysis! \n"
   ]
  },
  {
   "cell_type": "code",
   "execution_count": 23,
   "id": "68f1a82a-032e-49c4-b1d1-30d45a844834",
   "metadata": {},
   "outputs": [],
   "source": [
    "# Set up some analysis variables\n",
    "nearby_count = 0\n",
    "habitable_count = 0\n",
    "m_dwarf_count = 0\n",
    "total_planets = len(exoplanets_df)"
   ]
  },
  {
   "cell_type": "code",
   "execution_count": 24,
   "id": "baea3b16-038a-471c-b278-382ae009735b",
   "metadata": {},
   "outputs": [
    {
     "name": "stdout",
     "output_type": "stream",
     "text": [
      "\n",
      "Comprehensive Exoplanet Analysis:\n",
      "Kepler-186f is Earth-sized and potentially habitable!\n",
      "TRAPPIST-1e is nearby at 39.0 light-years.\n",
      "TRAPPIST-1e is Earth-sized and potentially habitable!\n",
      "Proxima Centauri b is nearby at 4.2 light-years.\n",
      "Proxima Centauri b is Earth-sized and potentially habitable!\n",
      "TOI-700 d is Earth-sized and potentially habitable!\n",
      "HD 219134 b is nearby at 21.3 light-years.\n",
      "\n",
      "Summary Statistics:\n",
      "- 3/5 planets are within 50 light-years\n",
      "- 4/5 planets are potentially habitable\n",
      "- 4/5 planets orbit M dwarf stars\n",
      "- 80.0% of our catalog planets are potentially habitable\n"
     ]
    }
   ],
   "source": [
    "# Let's analyze our exoplanet catalog more comprehensively\n",
    "print(\"\\nComprehensive Exoplanet Analysis:\")\n",
    "\n",
    "# Loop through the data and analyze\n",
    "for index, planet in exoplanets_df.iterrows():\n",
    "    # Check various conditions\n",
    "    if planet['distance_ly'] < 50:\n",
    "        nearby_count += 1\n",
    "        print(f\"{planet['name']} is nearby at {planet['distance_ly']} light-years.\")\n",
    "    \n",
    "    if planet['potentially_habitable']:\n",
    "        habitable_count += 1\n",
    "        \n",
    "        if planet['radius_earth'] > 0.8 and planet['radius_earth'] < 1.5:\n",
    "            print(f\"{planet['name']} is Earth-sized and potentially habitable!\")\n",
    "    \n",
    "    if planet['star_type'] == 'M dwarf':\n",
    "        m_dwarf_count += 1\n",
    "\n",
    "# Print summary statistics\n",
    "print(\"\\nSummary Statistics:\")\n",
    "print(f\"- {nearby_count}/{total_planets} planets are within 50 light-years\")\n",
    "print(f\"- {habitable_count}/{total_planets} planets are potentially habitable\")\n",
    "print(f\"- {m_dwarf_count}/{total_planets} planets orbit M dwarf stars\")\n",
    "\n",
    "# Calculate the percentage of habitable planets\n",
    "habitable_percentage = (habitable_count / total_planets) * 100\n",
    "print(f\"- {habitable_percentage:.1f}% of our catalog planets are potentially habitable\")"
   ]
  },
  {
   "cell_type": "markdown",
   "id": "6c581872-bf07-469b-a93d-3ed97bdcb161",
   "metadata": {},
   "source": [
    "# Part 8: Basic Visualization"
   ]
  },
  {
   "cell_type": "code",
   "execution_count": 25,
   "id": "30d04006-1e7f-4647-a861-bf88db667a48",
   "metadata": {},
   "outputs": [
    {
     "name": "stderr",
     "output_type": "stream",
     "text": [
      "/var/folders/6f/k2kn3hn52ws4kc_w0_zqfpy40000gp/T/ipykernel_75623/567941643.py:17: MatplotlibDeprecationWarning: Unable to determine Axes to steal space for Colorbar. Using gca(), but will raise in the future. Either provide the *cax* argument to use as the Axes for the Colorbar, provide the *ax* argument to steal space from it, or add *mappable* to an Axes.\n",
      "  plt.colorbar(plt.cm.ScalarMappable(cmap=plt.cm.RdYlGn),\n"
     ]
    },
    {
     "data": {
      "text/plain": [
       "<matplotlib.colorbar.Colorbar at 0x7f91d020f490>"
      ]
     },
     "execution_count": 25,
     "metadata": {},
     "output_type": "execute_result"
    },
    {
     "data": {
      "image/png": "[encoded data removed]",
      "text/plain": [
       "<Figure size 1000x600 with 2 Axes>"
      ]
     },
     "metadata": {},
     "output_type": "display_data"
    }
   ],
   "source": [
    "# Visualizing astronomical data\n",
    "\n",
    "plt.figure(figsize=(10, 6))\n",
    "plt.scatter(exoplanets_df['distance_ly'], exoplanets_df['radius_earth'], \n",
    "            c=exoplanets_df['potentially_habitable'].map({True: 'green', False: 'red'}),\n",
    "            s=100, alpha=0.7)\n",
    "\n",
    "# Add planet names as labels\n",
    "for i, txt in enumerate(exoplanets_df['name']):\n",
    "    plt.annotate(txt, (exoplanets_df['distance_ly'][i], exoplanets_df['radius_earth'][i]),\n",
    "                xytext=(5, 5), textcoords='offset points')\n",
    "\n",
    "plt.xlabel('Distance (light-years)')\n",
    "plt.ylabel('Radius (Earth radii)')\n",
    "plt.title('Exoplanet Distance vs. Size')\n",
    "plt.grid(True, linestyle='--', alpha=0.7)\n",
    "plt.colorbar(plt.cm.ScalarMappable(cmap=plt.cm.RdYlGn), \n",
    "             label='Potentially Habitable')"
   ]
  },
  {
   "cell_type": "markdown",
   "id": "ccef8a73-86d0-40d2-94ad-9f36a0988be0",
   "metadata": {},
   "source": [
    "# Astronomy Python Session 2 Homework\n",
    "## DataFrames, Loops, and Conditionals for Astronomical Data Analysis\n",
    "\n",
    "### Overview\n",
    "This homework will build on the skills learned in Sessions 1 and 2, focusing on using pandas DataFrames and control structures (for loops, if statements, while loops) to analyze astronomical data. You'll work with a dataset of stars and perform various analyses.\n",
    "\n",
    "---\n",
    "\n",
    "### Part 1: Setting Up Your Data\n",
    "\n",
    "**Task 1.1: Create a Star Catalog DataFrame**\n",
    "\n",
    "Create a pandas DataFrame containing information about at least 8 stars with the following columns:\n",
    "- `name` (string): Star name\n",
    "- `distance_ly` (float): Distance in light-years\n",
    "- `spectral_type` (string): O, B, A, F, G, K, or M\n",
    "- `temperature_K` (integer): Surface temperature in Kelvin\n",
    "- `mass_solar` (float): Mass in solar masses\n",
    "- `luminosity_solar` (float): Luminosity relative to the Sun\n",
    "- `has_planets` (boolean): Whether the star has known planets\n",
    "\n",
    "Use the variable creation skills from Session 1 to define your initial data.\n",
    "\n",
    "**Task 1.2: Add Calculated Columns**\n",
    "\n",
    "Add two new columns to your DataFrame:\n",
    "- `distance_parsecs`: Convert the distance from light-years to parsecs (1 ly ≈ 0.307 parsecs)\n",
    "- `absolute_magnitude`: Calculate using the formula:\n",
    "  M = 4.83 - 2.5 * log10(luminosity_solar)\n",
    "\n",
    "Display the resulting DataFrame.\n",
    "\n",
    "---\n",
    "\n",
    "### Part 2: Loop-Based Analysis\n",
    "\n",
    "**Task 2.1: Star Classification Loop**\n",
    "\n",
    "Write a for loop that iterates through each star in your DataFrame and classifies it based on temperature:\n",
    "- O stars: > 30,000 K\n",
    "- B stars: 10,000 - 30,000 K\n",
    "- A stars: 7,500 - 10,000 K\n",
    "- F stars: 6,000 - 7,500 K\n",
    "- G stars: 5,200 - 6,000 K\n",
    "- K stars: 3,700 - 5,200 K\n",
    "- M stars: < 3,700 K\n",
    "\n",
    "Compare your classification with the spectral_type column and print whether they match.\n",
    "\n",
    "**Task 2.2: Star Statistics**\n",
    "\n",
    "Using loops and conditionals, determine and print:\n",
    "- The number of stars in each spectral class\n",
    "- The average mass for each spectral class\n",
    "- The star(s) with the highest luminosity\n",
    "- All stars within 20 light-years that have planets\n",
    "\n",
    "---\n",
    "## Bonus Questions:\n",
    "\n",
    "### Part 3: While Loop Simulation\n",
    "\n",
    "**Task 3.1: Binary Star Orbit Simulation**\n",
    "\n",
    "Create a simple simulation of two stars orbiting each other:\n",
    "1. Choose parameters for a binary star system (masses, orbital period, orbital radius)\n",
    "2. Use a while loop to simulate at least 10 orbits\n",
    "3. Calculate and print the position of both stars at regular intervals\n",
    "4. Optional: Plot the orbital paths\n",
    "\n",
    "**Task 3.2: Stellar Evolution**\n",
    "\n",
    "Create a simple stellar evolution simulation using a while loop:\n",
    "1. Start with a star of 1 solar mass\n",
    "2. Estimate its main sequence lifetime (approximately 10 billion years for a Sun-like star)\n",
    "3. Simulate the star's evolution in time steps of 1 billion years\n",
    "4. At each step, calculate and print the star's:\n",
    "   - Age\n",
    "   - Remaining lifetime\n",
    "   - Temperature (assume it increases slightly over time)\n",
    "   - Luminosity (assume it increases over time)\n",
    "5. End the simulation when the star reaches the end of its main sequence lifetime\n",
    "\n",
    "---\n",
    "\n",
    "### Part 4: Advanced DataFrame Operations\n",
    "\n",
    "**Task 4.1: Stellar Neighborhood Analysis**\n",
    "\n",
    "Filter your DataFrame to create a new DataFrame containing only stars within 50 light-years.\n",
    "- Sort this DataFrame by mass\n",
    "- Create a new column showing the ratio of mass to luminosity\n",
    "- Calculate descriptive statistics for this subset\n",
    "\n",
    "**Task 4.2: Main Sequence Comparison**\n",
    "\n",
    "The main sequence of stars follows an approximate relationship between mass and luminosity:\n",
    "luminosity ∝ mass^3.5\n",
    "\n",
    "Create a new column in your DataFrame that calculates the expected luminosity based on this relationship. Then:\n",
    "1. Compare the expected vs. actual luminosity for each star\n",
    "2. Calculate the percentage difference\n",
    "3. Identify stars that deviate significantly (>20%) from the main sequence relationship\n",
    "4. Explain possible reasons for these deviations\n",
    "\n",
    "\n",
    "Create your own formula incorporating these factors and apply it to rank the stars in your catalog from most to least potentially habitable for life."
   ]
  },
  {
   "cell_type": "code",
   "execution_count": null,
   "id": "3ec0d75a-947a-4767-bf05-1857c7e9bf2e",
   "metadata": {},
   "outputs": [],
   "source": []
  }
 ],
 "metadata": {
  "kernelspec": {
   "display_name": "Python 3 (ipykernel)",
   "language": "python",
   "name": "python3"
  },
  "language_info": {
   "codemirror_mode": {
    "name": "ipython",
    "version": 3
   },
   "file_extension": ".py",
   "mimetype": "text/x-python",
   "name": "python",
   "nbconvert_exporter": "python",
   "pygments_lexer": "ipython3",
   "version": "3.8.18"
  }
 },
 "nbformat": 4,
 "nbformat_minor": 5
}
